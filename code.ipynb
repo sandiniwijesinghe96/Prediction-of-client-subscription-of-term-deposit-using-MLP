{
  "nbformat": 4,
  "nbformat_minor": 0,
  "metadata": {
    "kernelspec": {
      "display_name": "Python 3",
      "language": "python",
      "name": "python3"
    },
    "language_info": {
      "codemirror_mode": {
        "name": "ipython",
        "version": 3
      },
      "file_extension": ".py",
      "mimetype": "text/x-python",
      "name": "python",
      "nbconvert_exporter": "python",
      "pygments_lexer": "ipython3",
      "version": "3.8.5"
    },
    "colab": {
      "name": "Solution_174186U_ANN",
      "provenance": [],
      "collapsed_sections": []
    }
  },
  "cells": [
    {
      "cell_type": "code",
      "metadata": {
        "id": "9FjG-2-8SCiZ"
      },
      "source": [
        "# import python libraries\n",
        "import pandas as pd\n",
        "import numpy as np\n",
        "import matplotlib.pyplot as plt\n",
        "import scipy.stats as stats\n",
        "import seaborn as sns\n",
        "from sklearn.metrics import confusion_matrix, accuracy_score, mean_squared_error, mean_absolute_error\n",
        "from sklearn.neural_network import MLPClassifier\n",
        "from sklearn.preprocessing import FunctionTransformer, OneHotEncoder, StandardScaler\n",
        "from sklearn.model_selection import train_test_split\n",
        "from sklearn.decomposition import PCA\n",
        "from tensorflow.keras import Sequential\n",
        "from tensorflow.keras.layers import Dense\n",
        "from keras.optimizers import SGD"
      ],
      "execution_count": 187,
      "outputs": []
    },
    {
      "cell_type": "code",
      "metadata": {
        "colab": {
          "base_uri": "https://localhost:8080/"
        },
        "id": "wIrHr6lPSbQR",
        "outputId": "114263f7-388f-476f-a332-819472b2c8b2"
      },
      "source": [
        "from google.colab import drive\n",
        "drive.mount(\"/content/gdrive\")"
      ],
      "execution_count": 196,
      "outputs": [
        {
          "output_type": "stream",
          "text": [
            "Drive already mounted at /content/gdrive; to attempt to forcibly remount, call drive.mount(\"/content/gdrive\", force_remount=True).\n"
          ],
          "name": "stdout"
        }
      ]
    },
    {
      "cell_type": "code",
      "metadata": {
        "colab": {
          "base_uri": "https://localhost:8080/",
          "height": 379
        },
        "id": "USipvMQ9SCia",
        "outputId": "4828de70-e751-489c-c85b-87f680189b69"
      },
      "source": [
        "# load the dataset and show first 10 records\n",
        "data_set = pd.read_csv('/content/gdrive/MyDrive/Colab Notebooks/ANN/data/bank-additional-full.csv',sep=';')\n",
        "data_set.head(10)"
      ],
      "execution_count": 197,
      "outputs": [
        {
          "output_type": "execute_result",
          "data": {
            "text/html": [
              "<div>\n",
              "<style scoped>\n",
              "    .dataframe tbody tr th:only-of-type {\n",
              "        vertical-align: middle;\n",
              "    }\n",
              "\n",
              "    .dataframe tbody tr th {\n",
              "        vertical-align: top;\n",
              "    }\n",
              "\n",
              "    .dataframe thead th {\n",
              "        text-align: right;\n",
              "    }\n",
              "</style>\n",
              "<table border=\"1\" class=\"dataframe\">\n",
              "  <thead>\n",
              "    <tr style=\"text-align: right;\">\n",
              "      <th></th>\n",
              "      <th>age</th>\n",
              "      <th>job</th>\n",
              "      <th>marital</th>\n",
              "      <th>education</th>\n",
              "      <th>default</th>\n",
              "      <th>housing</th>\n",
              "      <th>loan</th>\n",
              "      <th>contact</th>\n",
              "      <th>month</th>\n",
              "      <th>day_of_week</th>\n",
              "      <th>duration</th>\n",
              "      <th>campaign</th>\n",
              "      <th>pdays</th>\n",
              "      <th>previous</th>\n",
              "      <th>poutcome</th>\n",
              "      <th>emp.var.rate</th>\n",
              "      <th>cons.price.idx</th>\n",
              "      <th>cons.conf.idx</th>\n",
              "      <th>euribor3m</th>\n",
              "      <th>nr.employed</th>\n",
              "      <th>y</th>\n",
              "    </tr>\n",
              "  </thead>\n",
              "  <tbody>\n",
              "    <tr>\n",
              "      <th>0</th>\n",
              "      <td>56</td>\n",
              "      <td>housemaid</td>\n",
              "      <td>married</td>\n",
              "      <td>basic.4y</td>\n",
              "      <td>no</td>\n",
              "      <td>no</td>\n",
              "      <td>no</td>\n",
              "      <td>telephone</td>\n",
              "      <td>may</td>\n",
              "      <td>mon</td>\n",
              "      <td>261</td>\n",
              "      <td>1</td>\n",
              "      <td>999</td>\n",
              "      <td>0</td>\n",
              "      <td>nonexistent</td>\n",
              "      <td>1.1</td>\n",
              "      <td>93.994</td>\n",
              "      <td>-36.4</td>\n",
              "      <td>4.857</td>\n",
              "      <td>5191.0</td>\n",
              "      <td>no</td>\n",
              "    </tr>\n",
              "    <tr>\n",
              "      <th>1</th>\n",
              "      <td>57</td>\n",
              "      <td>services</td>\n",
              "      <td>married</td>\n",
              "      <td>high.school</td>\n",
              "      <td>unknown</td>\n",
              "      <td>no</td>\n",
              "      <td>no</td>\n",
              "      <td>telephone</td>\n",
              "      <td>may</td>\n",
              "      <td>mon</td>\n",
              "      <td>149</td>\n",
              "      <td>1</td>\n",
              "      <td>999</td>\n",
              "      <td>0</td>\n",
              "      <td>nonexistent</td>\n",
              "      <td>1.1</td>\n",
              "      <td>93.994</td>\n",
              "      <td>-36.4</td>\n",
              "      <td>4.857</td>\n",
              "      <td>5191.0</td>\n",
              "      <td>no</td>\n",
              "    </tr>\n",
              "    <tr>\n",
              "      <th>2</th>\n",
              "      <td>37</td>\n",
              "      <td>services</td>\n",
              "      <td>married</td>\n",
              "      <td>high.school</td>\n",
              "      <td>no</td>\n",
              "      <td>yes</td>\n",
              "      <td>no</td>\n",
              "      <td>telephone</td>\n",
              "      <td>may</td>\n",
              "      <td>mon</td>\n",
              "      <td>226</td>\n",
              "      <td>1</td>\n",
              "      <td>999</td>\n",
              "      <td>0</td>\n",
              "      <td>nonexistent</td>\n",
              "      <td>1.1</td>\n",
              "      <td>93.994</td>\n",
              "      <td>-36.4</td>\n",
              "      <td>4.857</td>\n",
              "      <td>5191.0</td>\n",
              "      <td>no</td>\n",
              "    </tr>\n",
              "    <tr>\n",
              "      <th>3</th>\n",
              "      <td>40</td>\n",
              "      <td>admin.</td>\n",
              "      <td>married</td>\n",
              "      <td>basic.6y</td>\n",
              "      <td>no</td>\n",
              "      <td>no</td>\n",
              "      <td>no</td>\n",
              "      <td>telephone</td>\n",
              "      <td>may</td>\n",
              "      <td>mon</td>\n",
              "      <td>151</td>\n",
              "      <td>1</td>\n",
              "      <td>999</td>\n",
              "      <td>0</td>\n",
              "      <td>nonexistent</td>\n",
              "      <td>1.1</td>\n",
              "      <td>93.994</td>\n",
              "      <td>-36.4</td>\n",
              "      <td>4.857</td>\n",
              "      <td>5191.0</td>\n",
              "      <td>no</td>\n",
              "    </tr>\n",
              "    <tr>\n",
              "      <th>4</th>\n",
              "      <td>56</td>\n",
              "      <td>services</td>\n",
              "      <td>married</td>\n",
              "      <td>high.school</td>\n",
              "      <td>no</td>\n",
              "      <td>no</td>\n",
              "      <td>yes</td>\n",
              "      <td>telephone</td>\n",
              "      <td>may</td>\n",
              "      <td>mon</td>\n",
              "      <td>307</td>\n",
              "      <td>1</td>\n",
              "      <td>999</td>\n",
              "      <td>0</td>\n",
              "      <td>nonexistent</td>\n",
              "      <td>1.1</td>\n",
              "      <td>93.994</td>\n",
              "      <td>-36.4</td>\n",
              "      <td>4.857</td>\n",
              "      <td>5191.0</td>\n",
              "      <td>no</td>\n",
              "    </tr>\n",
              "    <tr>\n",
              "      <th>5</th>\n",
              "      <td>45</td>\n",
              "      <td>services</td>\n",
              "      <td>married</td>\n",
              "      <td>basic.9y</td>\n",
              "      <td>unknown</td>\n",
              "      <td>no</td>\n",
              "      <td>no</td>\n",
              "      <td>telephone</td>\n",
              "      <td>may</td>\n",
              "      <td>mon</td>\n",
              "      <td>198</td>\n",
              "      <td>1</td>\n",
              "      <td>999</td>\n",
              "      <td>0</td>\n",
              "      <td>nonexistent</td>\n",
              "      <td>1.1</td>\n",
              "      <td>93.994</td>\n",
              "      <td>-36.4</td>\n",
              "      <td>4.857</td>\n",
              "      <td>5191.0</td>\n",
              "      <td>no</td>\n",
              "    </tr>\n",
              "    <tr>\n",
              "      <th>6</th>\n",
              "      <td>59</td>\n",
              "      <td>admin.</td>\n",
              "      <td>married</td>\n",
              "      <td>professional.course</td>\n",
              "      <td>no</td>\n",
              "      <td>no</td>\n",
              "      <td>no</td>\n",
              "      <td>telephone</td>\n",
              "      <td>may</td>\n",
              "      <td>mon</td>\n",
              "      <td>139</td>\n",
              "      <td>1</td>\n",
              "      <td>999</td>\n",
              "      <td>0</td>\n",
              "      <td>nonexistent</td>\n",
              "      <td>1.1</td>\n",
              "      <td>93.994</td>\n",
              "      <td>-36.4</td>\n",
              "      <td>4.857</td>\n",
              "      <td>5191.0</td>\n",
              "      <td>no</td>\n",
              "    </tr>\n",
              "    <tr>\n",
              "      <th>7</th>\n",
              "      <td>41</td>\n",
              "      <td>blue-collar</td>\n",
              "      <td>married</td>\n",
              "      <td>unknown</td>\n",
              "      <td>unknown</td>\n",
              "      <td>no</td>\n",
              "      <td>no</td>\n",
              "      <td>telephone</td>\n",
              "      <td>may</td>\n",
              "      <td>mon</td>\n",
              "      <td>217</td>\n",
              "      <td>1</td>\n",
              "      <td>999</td>\n",
              "      <td>0</td>\n",
              "      <td>nonexistent</td>\n",
              "      <td>1.1</td>\n",
              "      <td>93.994</td>\n",
              "      <td>-36.4</td>\n",
              "      <td>4.857</td>\n",
              "      <td>5191.0</td>\n",
              "      <td>no</td>\n",
              "    </tr>\n",
              "    <tr>\n",
              "      <th>8</th>\n",
              "      <td>24</td>\n",
              "      <td>technician</td>\n",
              "      <td>single</td>\n",
              "      <td>professional.course</td>\n",
              "      <td>no</td>\n",
              "      <td>yes</td>\n",
              "      <td>no</td>\n",
              "      <td>telephone</td>\n",
              "      <td>may</td>\n",
              "      <td>mon</td>\n",
              "      <td>380</td>\n",
              "      <td>1</td>\n",
              "      <td>999</td>\n",
              "      <td>0</td>\n",
              "      <td>nonexistent</td>\n",
              "      <td>1.1</td>\n",
              "      <td>93.994</td>\n",
              "      <td>-36.4</td>\n",
              "      <td>4.857</td>\n",
              "      <td>5191.0</td>\n",
              "      <td>no</td>\n",
              "    </tr>\n",
              "    <tr>\n",
              "      <th>9</th>\n",
              "      <td>25</td>\n",
              "      <td>services</td>\n",
              "      <td>single</td>\n",
              "      <td>high.school</td>\n",
              "      <td>no</td>\n",
              "      <td>yes</td>\n",
              "      <td>no</td>\n",
              "      <td>telephone</td>\n",
              "      <td>may</td>\n",
              "      <td>mon</td>\n",
              "      <td>50</td>\n",
              "      <td>1</td>\n",
              "      <td>999</td>\n",
              "      <td>0</td>\n",
              "      <td>nonexistent</td>\n",
              "      <td>1.1</td>\n",
              "      <td>93.994</td>\n",
              "      <td>-36.4</td>\n",
              "      <td>4.857</td>\n",
              "      <td>5191.0</td>\n",
              "      <td>no</td>\n",
              "    </tr>\n",
              "  </tbody>\n",
              "</table>\n",
              "</div>"
            ],
            "text/plain": [
              "   age          job  marital  ... euribor3m nr.employed   y\n",
              "0   56    housemaid  married  ...     4.857      5191.0  no\n",
              "1   57     services  married  ...     4.857      5191.0  no\n",
              "2   37     services  married  ...     4.857      5191.0  no\n",
              "3   40       admin.  married  ...     4.857      5191.0  no\n",
              "4   56     services  married  ...     4.857      5191.0  no\n",
              "5   45     services  married  ...     4.857      5191.0  no\n",
              "6   59       admin.  married  ...     4.857      5191.0  no\n",
              "7   41  blue-collar  married  ...     4.857      5191.0  no\n",
              "8   24   technician   single  ...     4.857      5191.0  no\n",
              "9   25     services   single  ...     4.857      5191.0  no\n",
              "\n",
              "[10 rows x 21 columns]"
            ]
          },
          "metadata": {
            "tags": []
          },
          "execution_count": 197
        }
      ]
    },
    {
      "cell_type": "code",
      "metadata": {
        "colab": {
          "base_uri": "https://localhost:8080/",
          "height": 297
        },
        "id": "YU_-SP88SCic",
        "outputId": "697be4a6-d925-4c3b-e029-5d01fa381654"
      },
      "source": [
        "# describe summary\n",
        "data_set.describe()"
      ],
      "execution_count": 198,
      "outputs": [
        {
          "output_type": "execute_result",
          "data": {
            "text/html": [
              "<div>\n",
              "<style scoped>\n",
              "    .dataframe tbody tr th:only-of-type {\n",
              "        vertical-align: middle;\n",
              "    }\n",
              "\n",
              "    .dataframe tbody tr th {\n",
              "        vertical-align: top;\n",
              "    }\n",
              "\n",
              "    .dataframe thead th {\n",
              "        text-align: right;\n",
              "    }\n",
              "</style>\n",
              "<table border=\"1\" class=\"dataframe\">\n",
              "  <thead>\n",
              "    <tr style=\"text-align: right;\">\n",
              "      <th></th>\n",
              "      <th>age</th>\n",
              "      <th>duration</th>\n",
              "      <th>campaign</th>\n",
              "      <th>pdays</th>\n",
              "      <th>previous</th>\n",
              "      <th>emp.var.rate</th>\n",
              "      <th>cons.price.idx</th>\n",
              "      <th>cons.conf.idx</th>\n",
              "      <th>euribor3m</th>\n",
              "      <th>nr.employed</th>\n",
              "    </tr>\n",
              "  </thead>\n",
              "  <tbody>\n",
              "    <tr>\n",
              "      <th>count</th>\n",
              "      <td>41188.00000</td>\n",
              "      <td>41188.000000</td>\n",
              "      <td>41188.000000</td>\n",
              "      <td>41188.000000</td>\n",
              "      <td>41188.000000</td>\n",
              "      <td>41188.000000</td>\n",
              "      <td>41188.000000</td>\n",
              "      <td>41188.000000</td>\n",
              "      <td>41188.000000</td>\n",
              "      <td>41188.000000</td>\n",
              "    </tr>\n",
              "    <tr>\n",
              "      <th>mean</th>\n",
              "      <td>40.02406</td>\n",
              "      <td>258.285010</td>\n",
              "      <td>2.567593</td>\n",
              "      <td>962.475454</td>\n",
              "      <td>0.172963</td>\n",
              "      <td>0.081886</td>\n",
              "      <td>93.575664</td>\n",
              "      <td>-40.502600</td>\n",
              "      <td>3.621291</td>\n",
              "      <td>5167.035911</td>\n",
              "    </tr>\n",
              "    <tr>\n",
              "      <th>std</th>\n",
              "      <td>10.42125</td>\n",
              "      <td>259.279249</td>\n",
              "      <td>2.770014</td>\n",
              "      <td>186.910907</td>\n",
              "      <td>0.494901</td>\n",
              "      <td>1.570960</td>\n",
              "      <td>0.578840</td>\n",
              "      <td>4.628198</td>\n",
              "      <td>1.734447</td>\n",
              "      <td>72.251528</td>\n",
              "    </tr>\n",
              "    <tr>\n",
              "      <th>min</th>\n",
              "      <td>17.00000</td>\n",
              "      <td>0.000000</td>\n",
              "      <td>1.000000</td>\n",
              "      <td>0.000000</td>\n",
              "      <td>0.000000</td>\n",
              "      <td>-3.400000</td>\n",
              "      <td>92.201000</td>\n",
              "      <td>-50.800000</td>\n",
              "      <td>0.634000</td>\n",
              "      <td>4963.600000</td>\n",
              "    </tr>\n",
              "    <tr>\n",
              "      <th>25%</th>\n",
              "      <td>32.00000</td>\n",
              "      <td>102.000000</td>\n",
              "      <td>1.000000</td>\n",
              "      <td>999.000000</td>\n",
              "      <td>0.000000</td>\n",
              "      <td>-1.800000</td>\n",
              "      <td>93.075000</td>\n",
              "      <td>-42.700000</td>\n",
              "      <td>1.344000</td>\n",
              "      <td>5099.100000</td>\n",
              "    </tr>\n",
              "    <tr>\n",
              "      <th>50%</th>\n",
              "      <td>38.00000</td>\n",
              "      <td>180.000000</td>\n",
              "      <td>2.000000</td>\n",
              "      <td>999.000000</td>\n",
              "      <td>0.000000</td>\n",
              "      <td>1.100000</td>\n",
              "      <td>93.749000</td>\n",
              "      <td>-41.800000</td>\n",
              "      <td>4.857000</td>\n",
              "      <td>5191.000000</td>\n",
              "    </tr>\n",
              "    <tr>\n",
              "      <th>75%</th>\n",
              "      <td>47.00000</td>\n",
              "      <td>319.000000</td>\n",
              "      <td>3.000000</td>\n",
              "      <td>999.000000</td>\n",
              "      <td>0.000000</td>\n",
              "      <td>1.400000</td>\n",
              "      <td>93.994000</td>\n",
              "      <td>-36.400000</td>\n",
              "      <td>4.961000</td>\n",
              "      <td>5228.100000</td>\n",
              "    </tr>\n",
              "    <tr>\n",
              "      <th>max</th>\n",
              "      <td>98.00000</td>\n",
              "      <td>4918.000000</td>\n",
              "      <td>56.000000</td>\n",
              "      <td>999.000000</td>\n",
              "      <td>7.000000</td>\n",
              "      <td>1.400000</td>\n",
              "      <td>94.767000</td>\n",
              "      <td>-26.900000</td>\n",
              "      <td>5.045000</td>\n",
              "      <td>5228.100000</td>\n",
              "    </tr>\n",
              "  </tbody>\n",
              "</table>\n",
              "</div>"
            ],
            "text/plain": [
              "               age      duration  ...     euribor3m   nr.employed\n",
              "count  41188.00000  41188.000000  ...  41188.000000  41188.000000\n",
              "mean      40.02406    258.285010  ...      3.621291   5167.035911\n",
              "std       10.42125    259.279249  ...      1.734447     72.251528\n",
              "min       17.00000      0.000000  ...      0.634000   4963.600000\n",
              "25%       32.00000    102.000000  ...      1.344000   5099.100000\n",
              "50%       38.00000    180.000000  ...      4.857000   5191.000000\n",
              "75%       47.00000    319.000000  ...      4.961000   5228.100000\n",
              "max       98.00000   4918.000000  ...      5.045000   5228.100000\n",
              "\n",
              "[8 rows x 10 columns]"
            ]
          },
          "metadata": {
            "tags": []
          },
          "execution_count": 198
        }
      ]
    },
    {
      "cell_type": "code",
      "metadata": {
        "colab": {
          "base_uri": "https://localhost:8080/"
        },
        "id": "QV3vGQPOsX8Z",
        "outputId": "7c30a6be-e196-4cde-9f3b-060a96b481f7"
      },
      "source": [
        "data_set.columns"
      ],
      "execution_count": 199,
      "outputs": [
        {
          "output_type": "execute_result",
          "data": {
            "text/plain": [
              "Index(['age', 'job', 'marital', 'education', 'default', 'housing', 'loan',\n",
              "       'contact', 'month', 'day_of_week', 'duration', 'campaign', 'pdays',\n",
              "       'previous', 'poutcome', 'emp.var.rate', 'cons.price.idx',\n",
              "       'cons.conf.idx', 'euribor3m', 'nr.employed', 'y'],\n",
              "      dtype='object')"
            ]
          },
          "metadata": {
            "tags": []
          },
          "execution_count": 199
        }
      ]
    },
    {
      "cell_type": "code",
      "metadata": {
        "colab": {
          "base_uri": "https://localhost:8080/"
        },
        "id": "kdW5TGHcsfo0",
        "outputId": "90de9471-6fbb-4519-cd7c-ca4c805901b8"
      },
      "source": [
        "data_set.shape"
      ],
      "execution_count": 200,
      "outputs": [
        {
          "output_type": "execute_result",
          "data": {
            "text/plain": [
              "(41188, 21)"
            ]
          },
          "metadata": {
            "tags": []
          },
          "execution_count": 200
        }
      ]
    },
    {
      "cell_type": "code",
      "metadata": {
        "colab": {
          "base_uri": "https://localhost:8080/"
        },
        "id": "3aEr_UAaSCid",
        "outputId": "98f8b71e-60ac-425f-b618-8ae8fcef292b"
      },
      "source": [
        "data_set.isnull().any()"
      ],
      "execution_count": 201,
      "outputs": [
        {
          "output_type": "execute_result",
          "data": {
            "text/plain": [
              "age               False\n",
              "job               False\n",
              "marital           False\n",
              "education         False\n",
              "default           False\n",
              "housing           False\n",
              "loan              False\n",
              "contact           False\n",
              "month             False\n",
              "day_of_week       False\n",
              "duration          False\n",
              "campaign          False\n",
              "pdays             False\n",
              "previous          False\n",
              "poutcome          False\n",
              "emp.var.rate      False\n",
              "cons.price.idx    False\n",
              "cons.conf.idx     False\n",
              "euribor3m         False\n",
              "nr.employed       False\n",
              "y                 False\n",
              "dtype: bool"
            ]
          },
          "metadata": {
            "tags": []
          },
          "execution_count": 201
        }
      ]
    },
    {
      "cell_type": "code",
      "metadata": {
        "colab": {
          "base_uri": "https://localhost:8080/"
        },
        "id": "8ymkf8iDSCid",
        "outputId": "c9c4d091-eb57-4576-c853-3417283e743d"
      },
      "source": [
        "# extract numerical columns from the dataset\n",
        "num_df = data_set.select_dtypes(include=np.number)\n",
        "# remove the 'duration' column\n",
        "num_df = num_df.drop('duration', axis=1)\n",
        "# get the information about numerical columns\n",
        "num_df.info()"
      ],
      "execution_count": 202,
      "outputs": [
        {
          "output_type": "stream",
          "text": [
            "<class 'pandas.core.frame.DataFrame'>\n",
            "RangeIndex: 41188 entries, 0 to 41187\n",
            "Data columns (total 9 columns):\n",
            " #   Column          Non-Null Count  Dtype  \n",
            "---  ------          --------------  -----  \n",
            " 0   age             41188 non-null  int64  \n",
            " 1   campaign        41188 non-null  int64  \n",
            " 2   pdays           41188 non-null  int64  \n",
            " 3   previous        41188 non-null  int64  \n",
            " 4   emp.var.rate    41188 non-null  float64\n",
            " 5   cons.price.idx  41188 non-null  float64\n",
            " 6   cons.conf.idx   41188 non-null  float64\n",
            " 7   euribor3m       41188 non-null  float64\n",
            " 8   nr.employed     41188 non-null  float64\n",
            "dtypes: float64(5), int64(4)\n",
            "memory usage: 2.8 MB\n"
          ],
          "name": "stdout"
        }
      ]
    },
    {
      "cell_type": "code",
      "metadata": {
        "colab": {
          "base_uri": "https://localhost:8080/",
          "height": 297
        },
        "id": "05oM82pUSCid",
        "outputId": "0537dd75-3ecf-466a-9acf-bba1aecaa7e3"
      },
      "source": [
        "num_df.describe()"
      ],
      "execution_count": 203,
      "outputs": [
        {
          "output_type": "execute_result",
          "data": {
            "text/html": [
              "<div>\n",
              "<style scoped>\n",
              "    .dataframe tbody tr th:only-of-type {\n",
              "        vertical-align: middle;\n",
              "    }\n",
              "\n",
              "    .dataframe tbody tr th {\n",
              "        vertical-align: top;\n",
              "    }\n",
              "\n",
              "    .dataframe thead th {\n",
              "        text-align: right;\n",
              "    }\n",
              "</style>\n",
              "<table border=\"1\" class=\"dataframe\">\n",
              "  <thead>\n",
              "    <tr style=\"text-align: right;\">\n",
              "      <th></th>\n",
              "      <th>age</th>\n",
              "      <th>campaign</th>\n",
              "      <th>pdays</th>\n",
              "      <th>previous</th>\n",
              "      <th>emp.var.rate</th>\n",
              "      <th>cons.price.idx</th>\n",
              "      <th>cons.conf.idx</th>\n",
              "      <th>euribor3m</th>\n",
              "      <th>nr.employed</th>\n",
              "    </tr>\n",
              "  </thead>\n",
              "  <tbody>\n",
              "    <tr>\n",
              "      <th>count</th>\n",
              "      <td>41188.00000</td>\n",
              "      <td>41188.000000</td>\n",
              "      <td>41188.000000</td>\n",
              "      <td>41188.000000</td>\n",
              "      <td>41188.000000</td>\n",
              "      <td>41188.000000</td>\n",
              "      <td>41188.000000</td>\n",
              "      <td>41188.000000</td>\n",
              "      <td>41188.000000</td>\n",
              "    </tr>\n",
              "    <tr>\n",
              "      <th>mean</th>\n",
              "      <td>40.02406</td>\n",
              "      <td>2.567593</td>\n",
              "      <td>962.475454</td>\n",
              "      <td>0.172963</td>\n",
              "      <td>0.081886</td>\n",
              "      <td>93.575664</td>\n",
              "      <td>-40.502600</td>\n",
              "      <td>3.621291</td>\n",
              "      <td>5167.035911</td>\n",
              "    </tr>\n",
              "    <tr>\n",
              "      <th>std</th>\n",
              "      <td>10.42125</td>\n",
              "      <td>2.770014</td>\n",
              "      <td>186.910907</td>\n",
              "      <td>0.494901</td>\n",
              "      <td>1.570960</td>\n",
              "      <td>0.578840</td>\n",
              "      <td>4.628198</td>\n",
              "      <td>1.734447</td>\n",
              "      <td>72.251528</td>\n",
              "    </tr>\n",
              "    <tr>\n",
              "      <th>min</th>\n",
              "      <td>17.00000</td>\n",
              "      <td>1.000000</td>\n",
              "      <td>0.000000</td>\n",
              "      <td>0.000000</td>\n",
              "      <td>-3.400000</td>\n",
              "      <td>92.201000</td>\n",
              "      <td>-50.800000</td>\n",
              "      <td>0.634000</td>\n",
              "      <td>4963.600000</td>\n",
              "    </tr>\n",
              "    <tr>\n",
              "      <th>25%</th>\n",
              "      <td>32.00000</td>\n",
              "      <td>1.000000</td>\n",
              "      <td>999.000000</td>\n",
              "      <td>0.000000</td>\n",
              "      <td>-1.800000</td>\n",
              "      <td>93.075000</td>\n",
              "      <td>-42.700000</td>\n",
              "      <td>1.344000</td>\n",
              "      <td>5099.100000</td>\n",
              "    </tr>\n",
              "    <tr>\n",
              "      <th>50%</th>\n",
              "      <td>38.00000</td>\n",
              "      <td>2.000000</td>\n",
              "      <td>999.000000</td>\n",
              "      <td>0.000000</td>\n",
              "      <td>1.100000</td>\n",
              "      <td>93.749000</td>\n",
              "      <td>-41.800000</td>\n",
              "      <td>4.857000</td>\n",
              "      <td>5191.000000</td>\n",
              "    </tr>\n",
              "    <tr>\n",
              "      <th>75%</th>\n",
              "      <td>47.00000</td>\n",
              "      <td>3.000000</td>\n",
              "      <td>999.000000</td>\n",
              "      <td>0.000000</td>\n",
              "      <td>1.400000</td>\n",
              "      <td>93.994000</td>\n",
              "      <td>-36.400000</td>\n",
              "      <td>4.961000</td>\n",
              "      <td>5228.100000</td>\n",
              "    </tr>\n",
              "    <tr>\n",
              "      <th>max</th>\n",
              "      <td>98.00000</td>\n",
              "      <td>56.000000</td>\n",
              "      <td>999.000000</td>\n",
              "      <td>7.000000</td>\n",
              "      <td>1.400000</td>\n",
              "      <td>94.767000</td>\n",
              "      <td>-26.900000</td>\n",
              "      <td>5.045000</td>\n",
              "      <td>5228.100000</td>\n",
              "    </tr>\n",
              "  </tbody>\n",
              "</table>\n",
              "</div>"
            ],
            "text/plain": [
              "               age      campaign  ...     euribor3m   nr.employed\n",
              "count  41188.00000  41188.000000  ...  41188.000000  41188.000000\n",
              "mean      40.02406      2.567593  ...      3.621291   5167.035911\n",
              "std       10.42125      2.770014  ...      1.734447     72.251528\n",
              "min       17.00000      1.000000  ...      0.634000   4963.600000\n",
              "25%       32.00000      1.000000  ...      1.344000   5099.100000\n",
              "50%       38.00000      2.000000  ...      4.857000   5191.000000\n",
              "75%       47.00000      3.000000  ...      4.961000   5228.100000\n",
              "max       98.00000     56.000000  ...      5.045000   5228.100000\n",
              "\n",
              "[8 rows x 9 columns]"
            ]
          },
          "metadata": {
            "tags": []
          },
          "execution_count": 203
        }
      ]
    },
    {
      "cell_type": "code",
      "metadata": {
        "colab": {
          "base_uri": "https://localhost:8080/",
          "height": 282
        },
        "id": "mNy3PLy6BE2l",
        "outputId": "fb091ed2-e675-400f-e53a-070d75790a5d"
      },
      "source": [
        "num_df.boxplot(column='age')"
      ],
      "execution_count": 204,
      "outputs": [
        {
          "output_type": "execute_result",
          "data": {
            "text/plain": [
              "<matplotlib.axes._subplots.AxesSubplot at 0x7f65926e3210>"
            ]
          },
          "metadata": {
            "tags": []
          },
          "execution_count": 204
        },
        {
          "output_type": "display_data",
          "data": {
            "image/png": "[encoded data removed]",
            "text/plain": [
              "<Figure size 432x288 with 1 Axes>"
            ]
          },
          "metadata": {
            "tags": [],
            "needs_background": "light"
          }
        }
      ]
    },
    {
      "cell_type": "code",
      "metadata": {
        "colab": {
          "base_uri": "https://localhost:8080/",
          "height": 282
        },
        "id": "UhBEol2YBVy8",
        "outputId": "ef66852a-a20f-4d86-f82f-0af029d3cc91"
      },
      "source": [
        "num_df.boxplot(column='campaign')"
      ],
      "execution_count": 205,
      "outputs": [
        {
          "output_type": "execute_result",
          "data": {
            "text/plain": [
              "<matplotlib.axes._subplots.AxesSubplot at 0x7f65926bd490>"
            ]
          },
          "metadata": {
            "tags": []
          },
          "execution_count": 205
        },
        {
          "output_type": "display_data",
          "data": {
            "image/png": "[encoded data removed]",
            "text/plain": [
              "<Figure size 432x288 with 1 Axes>"
            ]
          },
          "metadata": {
            "tags": [],
            "needs_background": "light"
          }
        }
      ]
    },
    {
      "cell_type": "code",
      "metadata": {
        "colab": {
          "base_uri": "https://localhost:8080/",
          "height": 282
        },
        "id": "Xq53mwsbBYOT",
        "outputId": "e151125e-9838-470c-f4de-14cda06a0e00"
      },
      "source": [
        "num_df.boxplot(column='pdays')"
      ],
      "execution_count": 206,
      "outputs": [
        {
          "output_type": "execute_result",
          "data": {
            "text/plain": [
              "<matplotlib.axes._subplots.AxesSubplot at 0x7f6592624b10>"
            ]
          },
          "metadata": {
            "tags": []
          },
          "execution_count": 206
        },
        {
          "output_type": "display_data",
          "data": {
            "image/png": "[encoded data removed]",
            "text/plain": [
              "<Figure size 432x288 with 1 Axes>"
            ]
          },
          "metadata": {
            "tags": [],
            "needs_background": "light"
          }
        }
      ]
    },
    {
      "cell_type": "code",
      "metadata": {
        "colab": {
          "base_uri": "https://localhost:8080/",
          "height": 282
        },
        "id": "1nlgKA_dBb44",
        "outputId": "58484824-25da-49b2-8cd2-3a13242c7388"
      },
      "source": [
        "num_df.boxplot(column='emp.var.rate')"
      ],
      "execution_count": 207,
      "outputs": [
        {
          "output_type": "execute_result",
          "data": {
            "text/plain": [
              "<matplotlib.axes._subplots.AxesSubplot at 0x7f65925dfa50>"
            ]
          },
          "metadata": {
            "tags": []
          },
          "execution_count": 207
        },
        {
          "output_type": "display_data",
          "data": {
            "image/png": "[encoded data removed]",
            "text/plain": [
              "<Figure size 432x288 with 1 Axes>"
            ]
          },
          "metadata": {
            "tags": [],
            "needs_background": "light"
          }
        }
      ]
    },
    {
      "cell_type": "code",
      "metadata": {
        "colab": {
          "base_uri": "https://localhost:8080/",
          "height": 282
        },
        "id": "CMnm0PX0BdiZ",
        "outputId": "a144447a-6c75-4f51-d663-e3296b831d79"
      },
      "source": [
        "num_df.boxplot(column='previous')"
      ],
      "execution_count": 208,
      "outputs": [
        {
          "output_type": "execute_result",
          "data": {
            "text/plain": [
              "<matplotlib.axes._subplots.AxesSubplot at 0x7f65925a7b50>"
            ]
          },
          "metadata": {
            "tags": []
          },
          "execution_count": 208
        },
        {
          "output_type": "display_data",
          "data": {
            "image/png": "[encoded data removed]",
            "text/plain": [
              "<Figure size 432x288 with 1 Axes>"
            ]
          },
          "metadata": {
            "tags": [],
            "needs_background": "light"
          }
        }
      ]
    },
    {
      "cell_type": "code",
      "metadata": {
        "colab": {
          "base_uri": "https://localhost:8080/",
          "height": 282
        },
        "id": "vwODZv_jBd5Z",
        "outputId": "41e9c831-f56b-438e-c465-e59ba77c9c34"
      },
      "source": [
        "num_df.boxplot(column='cons.price.idx')"
      ],
      "execution_count": 209,
      "outputs": [
        {
          "output_type": "execute_result",
          "data": {
            "text/plain": [
              "<matplotlib.axes._subplots.AxesSubplot at 0x7f65924e8510>"
            ]
          },
          "metadata": {
            "tags": []
          },
          "execution_count": 209
        },
        {
          "output_type": "display_data",
          "data": {
            "image/png": "[encoded data removed]",
            "text/plain": [
              "<Figure size 432x288 with 1 Axes>"
            ]
          },
          "metadata": {
            "tags": [],
            "needs_background": "light"
          }
        }
      ]
    },
    {
      "cell_type": "code",
      "metadata": {
        "colab": {
          "base_uri": "https://localhost:8080/",
          "height": 282
        },
        "id": "TVD_Koh6BePV",
        "outputId": "634d9bfd-751e-4f8e-ed78-a9d58b7c56f3"
      },
      "source": [
        "num_df.boxplot(column='cons.conf.idx')"
      ],
      "execution_count": 210,
      "outputs": [
        {
          "output_type": "execute_result",
          "data": {
            "text/plain": [
              "<matplotlib.axes._subplots.AxesSubplot at 0x7f65924694d0>"
            ]
          },
          "metadata": {
            "tags": []
          },
          "execution_count": 210
        },
        {
          "output_type": "display_data",
          "data": {
            "image/png": "[encoded data removed]",
            "text/plain": [
              "<Figure size 432x288 with 1 Axes>"
            ]
          },
          "metadata": {
            "tags": [],
            "needs_background": "light"
          }
        }
      ]
    },
    {
      "cell_type": "code",
      "metadata": {
        "colab": {
          "base_uri": "https://localhost:8080/",
          "height": 282
        },
        "id": "-aiKj4WOBpc5",
        "outputId": "b5fd9670-0771-47f4-c3a0-f617ddadca26"
      },
      "source": [
        "num_df.boxplot(column='euribor3m')"
      ],
      "execution_count": 211,
      "outputs": [
        {
          "output_type": "execute_result",
          "data": {
            "text/plain": [
              "<matplotlib.axes._subplots.AxesSubplot at 0x7f659244a7d0>"
            ]
          },
          "metadata": {
            "tags": []
          },
          "execution_count": 211
        },
        {
          "output_type": "display_data",
          "data": {
            "image/png": "[encoded data removed]",
            "text/plain": [
              "<Figure size 432x288 with 1 Axes>"
            ]
          },
          "metadata": {
            "tags": [],
            "needs_background": "light"
          }
        }
      ]
    },
    {
      "cell_type": "code",
      "metadata": {
        "colab": {
          "base_uri": "https://localhost:8080/",
          "height": 282
        },
        "id": "4SuYTuPQBqYK",
        "outputId": "37719ce9-bb36-4e79-a02c-168623a5f9f9"
      },
      "source": [
        "num_df.boxplot(column='nr.employed')"
      ],
      "execution_count": 212,
      "outputs": [
        {
          "output_type": "execute_result",
          "data": {
            "text/plain": [
              "<matplotlib.axes._subplots.AxesSubplot at 0x7f65923b81d0>"
            ]
          },
          "metadata": {
            "tags": []
          },
          "execution_count": 212
        },
        {
          "output_type": "display_data",
          "data": {
            "image/png": "[encoded data removed]",
            "text/plain": [
              "<Figure size 432x288 with 1 Axes>"
            ]
          },
          "metadata": {
            "tags": [],
            "needs_background": "light"
          }
        }
      ]
    },
    {
      "cell_type": "code",
      "metadata": {
        "colab": {
          "base_uri": "https://localhost:8080/",
          "height": 451
        },
        "id": "fhYcw196Bxvy",
        "outputId": "11c725e4-4d27-41c4-a3a4-058e37c095fe"
      },
      "source": [
        "num_df.hist()"
      ],
      "execution_count": 213,
      "outputs": [
        {
          "output_type": "execute_result",
          "data": {
            "text/plain": [
              "array([[<matplotlib.axes._subplots.AxesSubplot object at 0x7f65923b8110>,\n",
              "        <matplotlib.axes._subplots.AxesSubplot object at 0x7f659dbadc50>,\n",
              "        <matplotlib.axes._subplots.AxesSubplot object at 0x7f659ef52350>],\n",
              "       [<matplotlib.axes._subplots.AxesSubplot object at 0x7f65939545d0>,\n",
              "        <matplotlib.axes._subplots.AxesSubplot object at 0x7f6593963c10>,\n",
              "        <matplotlib.axes._subplots.AxesSubplot object at 0x7f6593ad1450>],\n",
              "       [<matplotlib.axes._subplots.AxesSubplot object at 0x7f6593af0990>,\n",
              "        <matplotlib.axes._subplots.AxesSubplot object at 0x7f659db4a350>,\n",
              "        <matplotlib.axes._subplots.AxesSubplot object at 0x7f659db4a3d0>]],\n",
              "      dtype=object)"
            ]
          },
          "metadata": {
            "tags": []
          },
          "execution_count": 213
        },
        {
          "output_type": "display_data",
          "data": {
            "image/png": "[encoded data removed]",
            "text/plain": [
              "<Figure size 432x288 with 9 Axes>"
            ]
          },
          "metadata": {
            "tags": [],
            "needs_background": "light"
          }
        }
      ]
    },
    {
      "cell_type": "code",
      "metadata": {
        "colab": {
          "base_uri": "https://localhost:8080/",
          "height": 1000
        },
        "id": "ge1nygtjSCif",
        "outputId": "b9f8bcce-f99d-4196-a84b-5831173e3b81"
      },
      "source": [
        "# transformations for right skewed features\n",
        "sqrt_transformer = FunctionTransformer(np.sqrt, validate=True)\n",
        "\n",
        "columns = ['age', 'campaign', 'previous']\n",
        "data = sqrt_transformer.transform(num_df[columns])\n",
        "# code to get the histograms and Q-Q plots after applying transformations\n",
        "for index, col in enumerate(columns):\n",
        "    num_df[col] = data[:,index]\n",
        "    fig, axes = plt.subplots(1,2, figsize=(10,5))\n",
        "    fig.suptitle(col.capitalize(), fontsize=20, color='white')\n",
        "    axes[0].hist(num_df[col])\n",
        "    stats.probplot(num_df[col], dist=\"norm\", plot=axes[1])\n",
        "    plt.show()"
      ],
      "execution_count": 214,
      "outputs": [
        {
          "output_type": "display_data",
          "data": {
            "image/png": "[encoded data removed]",
            "text/plain": [
              "<Figure size 720x360 with 2 Axes>"
            ]
          },
          "metadata": {
            "tags": [],
            "needs_background": "light"
          }
        },
        {
          "output_type": "display_data",
          "data": {
            "image/png": "[encoded data removed]",
            "text/plain": [
              "<Figure size 720x360 with 2 Axes>"
            ]
          },
          "metadata": {
            "tags": [],
            "needs_background": "light"
          }
        },
        {
          "output_type": "display_data",
          "data": {
            "image/png": "[encoded data removed]",
            "text/plain": [
              "<Figure size 720x360 with 2 Axes>"
            ]
          },
          "metadata": {
            "tags": [],
            "needs_background": "light"
          }
        }
      ]
    },
    {
      "cell_type": "code",
      "metadata": {
        "colab": {
          "base_uri": "https://localhost:8080/",
          "height": 370
        },
        "id": "xDi_Lk2LSCig",
        "outputId": "cb7ace7d-8f87-4fe1-8dae-683bc4981734"
      },
      "source": [
        "#transformations for left skewed features\n",
        "squared_transformer = FunctionTransformer(lambda x: x**2, validate=True)\n",
        "\n",
        "columns = ['nr.employed']\n",
        "data = squared_transformer.transform(num_df[columns])\n",
        "# code to get the histograms and Q-Q plots after applying transformations\n",
        "for index, col in enumerate(columns):\n",
        "    num_df[col] = data[:,index]\n",
        "    fig, axes = plt.subplots(1,2, figsize=(10,5))\n",
        "    fig.suptitle(col.capitalize(), fontsize=20, color='white')\n",
        "    axes[0].hist(num_df[col])\n",
        "    stats.probplot(num_df[col], dist=\"norm\", plot=axes[1])\n",
        "    plt.show()"
      ],
      "execution_count": 215,
      "outputs": [
        {
          "output_type": "display_data",
          "data": {
            "image/png": "[encoded data removed]",
            "text/plain": [
              "<Figure size 720x360 with 2 Axes>"
            ]
          },
          "metadata": {
            "tags": [],
            "needs_background": "light"
          }
        }
      ]
    },
    {
      "cell_type": "code",
      "metadata": {
        "colab": {
          "base_uri": "https://localhost:8080/"
        },
        "id": "YhC8KYulSCig",
        "outputId": "e631e3df-ddc8-48d2-eef7-5a2c48b0f9c1"
      },
      "source": [
        "#getting categorical columns separately \n",
        "categorical_df = data_set.select_dtypes(exclude=np.number)\n",
        "categorical_df.info()"
      ],
      "execution_count": 216,
      "outputs": [
        {
          "output_type": "stream",
          "text": [
            "<class 'pandas.core.frame.DataFrame'>\n",
            "RangeIndex: 41188 entries, 0 to 41187\n",
            "Data columns (total 11 columns):\n",
            " #   Column       Non-Null Count  Dtype \n",
            "---  ------       --------------  ----- \n",
            " 0   job          41188 non-null  object\n",
            " 1   marital      41188 non-null  object\n",
            " 2   education    41188 non-null  object\n",
            " 3   default      41188 non-null  object\n",
            " 4   housing      41188 non-null  object\n",
            " 5   loan         41188 non-null  object\n",
            " 6   contact      41188 non-null  object\n",
            " 7   month        41188 non-null  object\n",
            " 8   day_of_week  41188 non-null  object\n",
            " 9   poutcome     41188 non-null  object\n",
            " 10  y            41188 non-null  object\n",
            "dtypes: object(11)\n",
            "memory usage: 3.5+ MB\n"
          ],
          "name": "stdout"
        }
      ]
    },
    {
      "cell_type": "code",
      "metadata": {
        "colab": {
          "base_uri": "https://localhost:8080/"
        },
        "id": "JZKqhsGiTSaZ",
        "outputId": "a69dd12d-d309-4a3f-cdbb-4cb1255e4c9a"
      },
      "source": [
        "#one hot encoder to categorical features\n",
        "categorical_cols = categorical_df.columns\n",
        "categorical_cols = categorical_cols.drop('y')\n",
        "onehot_encoder = OneHotEncoder(handle_unknown='ignore')\n",
        "onehot_encoder.fit(categorical_df[categorical_cols])\n",
        "coded_column_names = onehot_encoder.get_feature_names(categorical_cols)\n",
        "\n",
        "onehot_encoder_df = pd.DataFrame(onehot_encoder.transform(categorical_df[categorical_cols]).toarray(),columns=coded_column_names)\n",
        "categorical_df = categorical_df.join(onehot_encoder_df)\n",
        "categorical_df.info()"
      ],
      "execution_count": 217,
      "outputs": [
        {
          "output_type": "stream",
          "text": [
            "<class 'pandas.core.frame.DataFrame'>\n",
            "RangeIndex: 41188 entries, 0 to 41187\n",
            "Data columns (total 64 columns):\n",
            " #   Column                         Non-Null Count  Dtype  \n",
            "---  ------                         --------------  -----  \n",
            " 0   job                            41188 non-null  object \n",
            " 1   marital                        41188 non-null  object \n",
            " 2   education                      41188 non-null  object \n",
            " 3   default                        41188 non-null  object \n",
            " 4   housing                        41188 non-null  object \n",
            " 5   loan                           41188 non-null  object \n",
            " 6   contact                        41188 non-null  object \n",
            " 7   month                          41188 non-null  object \n",
            " 8   day_of_week                    41188 non-null  object \n",
            " 9   poutcome                       41188 non-null  object \n",
            " 10  y                              41188 non-null  object \n",
            " 11  job_admin.                     41188 non-null  float64\n",
            " 12  job_blue-collar                41188 non-null  float64\n",
            " 13  job_entrepreneur               41188 non-null  float64\n",
            " 14  job_housemaid                  41188 non-null  float64\n",
            " 15  job_management                 41188 non-null  float64\n",
            " 16  job_retired                    41188 non-null  float64\n",
            " 17  job_self-employed              41188 non-null  float64\n",
            " 18  job_services                   41188 non-null  float64\n",
            " 19  job_student                    41188 non-null  float64\n",
            " 20  job_technician                 41188 non-null  float64\n",
            " 21  job_unemployed                 41188 non-null  float64\n",
            " 22  job_unknown                    41188 non-null  float64\n",
            " 23  marital_divorced               41188 non-null  float64\n",
            " 24  marital_married                41188 non-null  float64\n",
            " 25  marital_single                 41188 non-null  float64\n",
            " 26  marital_unknown                41188 non-null  float64\n",
            " 27  education_basic.4y             41188 non-null  float64\n",
            " 28  education_basic.6y             41188 non-null  float64\n",
            " 29  education_basic.9y             41188 non-null  float64\n",
            " 30  education_high.school          41188 non-null  float64\n",
            " 31  education_illiterate           41188 non-null  float64\n",
            " 32  education_professional.course  41188 non-null  float64\n",
            " 33  education_university.degree    41188 non-null  float64\n",
            " 34  education_unknown              41188 non-null  float64\n",
            " 35  default_no                     41188 non-null  float64\n",
            " 36  default_unknown                41188 non-null  float64\n",
            " 37  default_yes                    41188 non-null  float64\n",
            " 38  housing_no                     41188 non-null  float64\n",
            " 39  housing_unknown                41188 non-null  float64\n",
            " 40  housing_yes                    41188 non-null  float64\n",
            " 41  loan_no                        41188 non-null  float64\n",
            " 42  loan_unknown                   41188 non-null  float64\n",
            " 43  loan_yes                       41188 non-null  float64\n",
            " 44  contact_cellular               41188 non-null  float64\n",
            " 45  contact_telephone              41188 non-null  float64\n",
            " 46  month_apr                      41188 non-null  float64\n",
            " 47  month_aug                      41188 non-null  float64\n",
            " 48  month_dec                      41188 non-null  float64\n",
            " 49  month_jul                      41188 non-null  float64\n",
            " 50  month_jun                      41188 non-null  float64\n",
            " 51  month_mar                      41188 non-null  float64\n",
            " 52  month_may                      41188 non-null  float64\n",
            " 53  month_nov                      41188 non-null  float64\n",
            " 54  month_oct                      41188 non-null  float64\n",
            " 55  month_sep                      41188 non-null  float64\n",
            " 56  day_of_week_fri                41188 non-null  float64\n",
            " 57  day_of_week_mon                41188 non-null  float64\n",
            " 58  day_of_week_thu                41188 non-null  float64\n",
            " 59  day_of_week_tue                41188 non-null  float64\n",
            " 60  day_of_week_wed                41188 non-null  float64\n",
            " 61  poutcome_failure               41188 non-null  float64\n",
            " 62  poutcome_nonexistent           41188 non-null  float64\n",
            " 63  poutcome_success               41188 non-null  float64\n",
            "dtypes: float64(53), object(11)\n",
            "memory usage: 20.1+ MB\n"
          ],
          "name": "stdout"
        }
      ]
    },
    {
      "cell_type": "code",
      "metadata": {
        "colab": {
          "base_uri": "https://localhost:8080/"
        },
        "id": "YVCQ9vTDCwPo",
        "outputId": "945b54d6-daa5-4439-80ab-d4e9b41d0e22"
      },
      "source": [
        "categorical_df.isnull().any()"
      ],
      "execution_count": 218,
      "outputs": [
        {
          "output_type": "execute_result",
          "data": {
            "text/plain": [
              "job                     False\n",
              "marital                 False\n",
              "education               False\n",
              "default                 False\n",
              "housing                 False\n",
              "                        ...  \n",
              "day_of_week_tue         False\n",
              "day_of_week_wed         False\n",
              "poutcome_failure        False\n",
              "poutcome_nonexistent    False\n",
              "poutcome_success        False\n",
              "Length: 64, dtype: bool"
            ]
          },
          "metadata": {
            "tags": []
          },
          "execution_count": 218
        }
      ]
    },
    {
      "cell_type": "code",
      "metadata": {
        "colab": {
          "base_uri": "https://localhost:8080/",
          "height": 396
        },
        "id": "apixF93GTyua",
        "outputId": "4c20b081-3fce-4e4d-cb99-bdf385b7e72c"
      },
      "source": [
        "# drop the categorical columns from categorical_df dataframe\n",
        "categorical_df.drop(categorical_cols, axis=1, inplace=True)\n",
        "categorical_df.head(10)"
      ],
      "execution_count": 219,
      "outputs": [
        {
          "output_type": "execute_result",
          "data": {
            "text/html": [
              "<div>\n",
              "<style scoped>\n",
              "    .dataframe tbody tr th:only-of-type {\n",
              "        vertical-align: middle;\n",
              "    }\n",
              "\n",
              "    .dataframe tbody tr th {\n",
              "        vertical-align: top;\n",
              "    }\n",
              "\n",
              "    .dataframe thead th {\n",
              "        text-align: right;\n",
              "    }\n",
              "</style>\n",
              "<table border=\"1\" class=\"dataframe\">\n",
              "  <thead>\n",
              "    <tr style=\"text-align: right;\">\n",
              "      <th></th>\n",
              "      <th>y</th>\n",
              "      <th>job_admin.</th>\n",
              "      <th>job_blue-collar</th>\n",
              "      <th>job_entrepreneur</th>\n",
              "      <th>job_housemaid</th>\n",
              "      <th>job_management</th>\n",
              "      <th>job_retired</th>\n",
              "      <th>job_self-employed</th>\n",
              "      <th>job_services</th>\n",
              "      <th>job_student</th>\n",
              "      <th>job_technician</th>\n",
              "      <th>job_unemployed</th>\n",
              "      <th>job_unknown</th>\n",
              "      <th>marital_divorced</th>\n",
              "      <th>marital_married</th>\n",
              "      <th>marital_single</th>\n",
              "      <th>marital_unknown</th>\n",
              "      <th>education_basic.4y</th>\n",
              "      <th>education_basic.6y</th>\n",
              "      <th>education_basic.9y</th>\n",
              "      <th>education_high.school</th>\n",
              "      <th>education_illiterate</th>\n",
              "      <th>education_professional.course</th>\n",
              "      <th>education_university.degree</th>\n",
              "      <th>education_unknown</th>\n",
              "      <th>default_no</th>\n",
              "      <th>default_unknown</th>\n",
              "      <th>default_yes</th>\n",
              "      <th>housing_no</th>\n",
              "      <th>housing_unknown</th>\n",
              "      <th>housing_yes</th>\n",
              "      <th>loan_no</th>\n",
              "      <th>loan_unknown</th>\n",
              "      <th>loan_yes</th>\n",
              "      <th>contact_cellular</th>\n",
              "      <th>contact_telephone</th>\n",
              "      <th>month_apr</th>\n",
              "      <th>month_aug</th>\n",
              "      <th>month_dec</th>\n",
              "      <th>month_jul</th>\n",
              "      <th>month_jun</th>\n",
              "      <th>month_mar</th>\n",
              "      <th>month_may</th>\n",
              "      <th>month_nov</th>\n",
              "      <th>month_oct</th>\n",
              "      <th>month_sep</th>\n",
              "      <th>day_of_week_fri</th>\n",
              "      <th>day_of_week_mon</th>\n",
              "      <th>day_of_week_thu</th>\n",
              "      <th>day_of_week_tue</th>\n",
              "      <th>day_of_week_wed</th>\n",
              "      <th>poutcome_failure</th>\n",
              "      <th>poutcome_nonexistent</th>\n",
              "      <th>poutcome_success</th>\n",
              "    </tr>\n",
              "  </thead>\n",
              "  <tbody>\n",
              "    <tr>\n",
              "      <th>0</th>\n",
              "      <td>no</td>\n",
              "      <td>0.0</td>\n",
              "      <td>0.0</td>\n",
              "      <td>0.0</td>\n",
              "      <td>1.0</td>\n",
              "      <td>0.0</td>\n",
              "      <td>0.0</td>\n",
              "      <td>0.0</td>\n",
              "      <td>0.0</td>\n",
              "      <td>0.0</td>\n",
              "      <td>0.0</td>\n",
              "      <td>0.0</td>\n",
              "      <td>0.0</td>\n",
              "      <td>0.0</td>\n",
              "      <td>1.0</td>\n",
              "      <td>0.0</td>\n",
              "      <td>0.0</td>\n",
              "      <td>1.0</td>\n",
              "      <td>0.0</td>\n",
              "      <td>0.0</td>\n",
              "      <td>0.0</td>\n",
              "      <td>0.0</td>\n",
              "      <td>0.0</td>\n",
              "      <td>0.0</td>\n",
              "      <td>0.0</td>\n",
              "      <td>1.0</td>\n",
              "      <td>0.0</td>\n",
              "      <td>0.0</td>\n",
              "      <td>1.0</td>\n",
              "      <td>0.0</td>\n",
              "      <td>0.0</td>\n",
              "      <td>1.0</td>\n",
              "      <td>0.0</td>\n",
              "      <td>0.0</td>\n",
              "      <td>0.0</td>\n",
              "      <td>1.0</td>\n",
              "      <td>0.0</td>\n",
              "      <td>0.0</td>\n",
              "      <td>0.0</td>\n",
              "      <td>0.0</td>\n",
              "      <td>0.0</td>\n",
              "      <td>0.0</td>\n",
              "      <td>1.0</td>\n",
              "      <td>0.0</td>\n",
              "      <td>0.0</td>\n",
              "      <td>0.0</td>\n",
              "      <td>0.0</td>\n",
              "      <td>1.0</td>\n",
              "      <td>0.0</td>\n",
              "      <td>0.0</td>\n",
              "      <td>0.0</td>\n",
              "      <td>0.0</td>\n",
              "      <td>1.0</td>\n",
              "      <td>0.0</td>\n",
              "    </tr>\n",
              "    <tr>\n",
              "      <th>1</th>\n",
              "      <td>no</td>\n",
              "      <td>0.0</td>\n",
              "      <td>0.0</td>\n",
              "      <td>0.0</td>\n",
              "      <td>0.0</td>\n",
              "      <td>0.0</td>\n",
              "      <td>0.0</td>\n",
              "      <td>0.0</td>\n",
              "      <td>1.0</td>\n",
              "      <td>0.0</td>\n",
              "      <td>0.0</td>\n",
              "      <td>0.0</td>\n",
              "      <td>0.0</td>\n",
              "      <td>0.0</td>\n",
              "      <td>1.0</td>\n",
              "      <td>0.0</td>\n",
              "      <td>0.0</td>\n",
              "      <td>0.0</td>\n",
              "      <td>0.0</td>\n",
              "      <td>0.0</td>\n",
              "      <td>1.0</td>\n",
              "      <td>0.0</td>\n",
              "      <td>0.0</td>\n",
              "      <td>0.0</td>\n",
              "      <td>0.0</td>\n",
              "      <td>0.0</td>\n",
              "      <td>1.0</td>\n",
              "      <td>0.0</td>\n",
              "      <td>1.0</td>\n",
              "      <td>0.0</td>\n",
              "      <td>0.0</td>\n",
              "      <td>1.0</td>\n",
              "      <td>0.0</td>\n",
              "      <td>0.0</td>\n",
              "      <td>0.0</td>\n",
              "      <td>1.0</td>\n",
              "      <td>0.0</td>\n",
              "      <td>0.0</td>\n",
              "      <td>0.0</td>\n",
              "      <td>0.0</td>\n",
              "      <td>0.0</td>\n",
              "      <td>0.0</td>\n",
              "      <td>1.0</td>\n",
              "      <td>0.0</td>\n",
              "      <td>0.0</td>\n",
              "      <td>0.0</td>\n",
              "      <td>0.0</td>\n",
              "      <td>1.0</td>\n",
              "      <td>0.0</td>\n",
              "      <td>0.0</td>\n",
              "      <td>0.0</td>\n",
              "      <td>0.0</td>\n",
              "      <td>1.0</td>\n",
              "      <td>0.0</td>\n",
              "    </tr>\n",
              "    <tr>\n",
              "      <th>2</th>\n",
              "      <td>no</td>\n",
              "      <td>0.0</td>\n",
              "      <td>0.0</td>\n",
              "      <td>0.0</td>\n",
              "      <td>0.0</td>\n",
              "      <td>0.0</td>\n",
              "      <td>0.0</td>\n",
              "      <td>0.0</td>\n",
              "      <td>1.0</td>\n",
              "      <td>0.0</td>\n",
              "      <td>0.0</td>\n",
              "      <td>0.0</td>\n",
              "      <td>0.0</td>\n",
              "      <td>0.0</td>\n",
              "      <td>1.0</td>\n",
              "      <td>0.0</td>\n",
              "      <td>0.0</td>\n",
              "      <td>0.0</td>\n",
              "      <td>0.0</td>\n",
              "      <td>0.0</td>\n",
              "      <td>1.0</td>\n",
              "      <td>0.0</td>\n",
              "      <td>0.0</td>\n",
              "      <td>0.0</td>\n",
              "      <td>0.0</td>\n",
              "      <td>1.0</td>\n",
              "      <td>0.0</td>\n",
              "      <td>0.0</td>\n",
              "      <td>0.0</td>\n",
              "      <td>0.0</td>\n",
              "      <td>1.0</td>\n",
              "      <td>1.0</td>\n",
              "      <td>0.0</td>\n",
              "      <td>0.0</td>\n",
              "      <td>0.0</td>\n",
              "      <td>1.0</td>\n",
              "      <td>0.0</td>\n",
              "      <td>0.0</td>\n",
              "      <td>0.0</td>\n",
              "      <td>0.0</td>\n",
              "      <td>0.0</td>\n",
              "      <td>0.0</td>\n",
              "      <td>1.0</td>\n",
              "      <td>0.0</td>\n",
              "      <td>0.0</td>\n",
              "      <td>0.0</td>\n",
              "      <td>0.0</td>\n",
              "      <td>1.0</td>\n",
              "      <td>0.0</td>\n",
              "      <td>0.0</td>\n",
              "      <td>0.0</td>\n",
              "      <td>0.0</td>\n",
              "      <td>1.0</td>\n",
              "      <td>0.0</td>\n",
              "    </tr>\n",
              "    <tr>\n",
              "      <th>3</th>\n",
              "      <td>no</td>\n",
              "      <td>1.0</td>\n",
              "      <td>0.0</td>\n",
              "      <td>0.0</td>\n",
              "      <td>0.0</td>\n",
              "      <td>0.0</td>\n",
              "      <td>0.0</td>\n",
              "      <td>0.0</td>\n",
              "      <td>0.0</td>\n",
              "      <td>0.0</td>\n",
              "      <td>0.0</td>\n",
              "      <td>0.0</td>\n",
              "      <td>0.0</td>\n",
              "      <td>0.0</td>\n",
              "      <td>1.0</td>\n",
              "      <td>0.0</td>\n",
              "      <td>0.0</td>\n",
              "      <td>0.0</td>\n",
              "      <td>1.0</td>\n",
              "      <td>0.0</td>\n",
              "      <td>0.0</td>\n",
              "      <td>0.0</td>\n",
              "      <td>0.0</td>\n",
              "      <td>0.0</td>\n",
              "      <td>0.0</td>\n",
              "      <td>1.0</td>\n",
              "      <td>0.0</td>\n",
              "      <td>0.0</td>\n",
              "      <td>1.0</td>\n",
              "      <td>0.0</td>\n",
              "      <td>0.0</td>\n",
              "      <td>1.0</td>\n",
              "      <td>0.0</td>\n",
              "      <td>0.0</td>\n",
              "      <td>0.0</td>\n",
              "      <td>1.0</td>\n",
              "      <td>0.0</td>\n",
              "      <td>0.0</td>\n",
              "      <td>0.0</td>\n",
              "      <td>0.0</td>\n",
              "      <td>0.0</td>\n",
              "      <td>0.0</td>\n",
              "      <td>1.0</td>\n",
              "      <td>0.0</td>\n",
              "      <td>0.0</td>\n",
              "      <td>0.0</td>\n",
              "      <td>0.0</td>\n",
              "      <td>1.0</td>\n",
              "      <td>0.0</td>\n",
              "      <td>0.0</td>\n",
              "      <td>0.0</td>\n",
              "      <td>0.0</td>\n",
              "      <td>1.0</td>\n",
              "      <td>0.0</td>\n",
              "    </tr>\n",
              "    <tr>\n",
              "      <th>4</th>\n",
              "      <td>no</td>\n",
              "      <td>0.0</td>\n",
              "      <td>0.0</td>\n",
              "      <td>0.0</td>\n",
              "      <td>0.0</td>\n",
              "      <td>0.0</td>\n",
              "      <td>0.0</td>\n",
              "      <td>0.0</td>\n",
              "      <td>1.0</td>\n",
              "      <td>0.0</td>\n",
              "      <td>0.0</td>\n",
              "      <td>0.0</td>\n",
              "      <td>0.0</td>\n",
              "      <td>0.0</td>\n",
              "      <td>1.0</td>\n",
              "      <td>0.0</td>\n",
              "      <td>0.0</td>\n",
              "      <td>0.0</td>\n",
              "      <td>0.0</td>\n",
              "      <td>0.0</td>\n",
              "      <td>1.0</td>\n",
              "      <td>0.0</td>\n",
              "      <td>0.0</td>\n",
              "      <td>0.0</td>\n",
              "      <td>0.0</td>\n",
              "      <td>1.0</td>\n",
              "      <td>0.0</td>\n",
              "      <td>0.0</td>\n",
              "      <td>1.0</td>\n",
              "      <td>0.0</td>\n",
              "      <td>0.0</td>\n",
              "      <td>0.0</td>\n",
              "      <td>0.0</td>\n",
              "      <td>1.0</td>\n",
              "      <td>0.0</td>\n",
              "      <td>1.0</td>\n",
              "      <td>0.0</td>\n",
              "      <td>0.0</td>\n",
              "      <td>0.0</td>\n",
              "      <td>0.0</td>\n",
              "      <td>0.0</td>\n",
              "      <td>0.0</td>\n",
              "      <td>1.0</td>\n",
              "      <td>0.0</td>\n",
              "      <td>0.0</td>\n",
              "      <td>0.0</td>\n",
              "      <td>0.0</td>\n",
              "      <td>1.0</td>\n",
              "      <td>0.0</td>\n",
              "      <td>0.0</td>\n",
              "      <td>0.0</td>\n",
              "      <td>0.0</td>\n",
              "      <td>1.0</td>\n",
              "      <td>0.0</td>\n",
              "    </tr>\n",
              "    <tr>\n",
              "      <th>5</th>\n",
              "      <td>no</td>\n",
              "      <td>0.0</td>\n",
              "      <td>0.0</td>\n",
              "      <td>0.0</td>\n",
              "      <td>0.0</td>\n",
              "      <td>0.0</td>\n",
              "      <td>0.0</td>\n",
              "      <td>0.0</td>\n",
              "      <td>1.0</td>\n",
              "      <td>0.0</td>\n",
              "      <td>0.0</td>\n",
              "      <td>0.0</td>\n",
              "      <td>0.0</td>\n",
              "      <td>0.0</td>\n",
              "      <td>1.0</td>\n",
              "      <td>0.0</td>\n",
              "      <td>0.0</td>\n",
              "      <td>0.0</td>\n",
              "      <td>0.0</td>\n",
              "      <td>1.0</td>\n",
              "      <td>0.0</td>\n",
              "      <td>0.0</td>\n",
              "      <td>0.0</td>\n",
              "      <td>0.0</td>\n",
              "      <td>0.0</td>\n",
              "      <td>0.0</td>\n",
              "      <td>1.0</td>\n",
              "      <td>0.0</td>\n",
              "      <td>1.0</td>\n",
              "      <td>0.0</td>\n",
              "      <td>0.0</td>\n",
              "      <td>1.0</td>\n",
              "      <td>0.0</td>\n",
              "      <td>0.0</td>\n",
              "      <td>0.0</td>\n",
              "      <td>1.0</td>\n",
              "      <td>0.0</td>\n",
              "      <td>0.0</td>\n",
              "      <td>0.0</td>\n",
              "      <td>0.0</td>\n",
              "      <td>0.0</td>\n",
              "      <td>0.0</td>\n",
              "      <td>1.0</td>\n",
              "      <td>0.0</td>\n",
              "      <td>0.0</td>\n",
              "      <td>0.0</td>\n",
              "      <td>0.0</td>\n",
              "      <td>1.0</td>\n",
              "      <td>0.0</td>\n",
              "      <td>0.0</td>\n",
              "      <td>0.0</td>\n",
              "      <td>0.0</td>\n",
              "      <td>1.0</td>\n",
              "      <td>0.0</td>\n",
              "    </tr>\n",
              "    <tr>\n",
              "      <th>6</th>\n",
              "      <td>no</td>\n",
              "      <td>1.0</td>\n",
              "      <td>0.0</td>\n",
              "      <td>0.0</td>\n",
              "      <td>0.0</td>\n",
              "      <td>0.0</td>\n",
              "      <td>0.0</td>\n",
              "      <td>0.0</td>\n",
              "      <td>0.0</td>\n",
              "      <td>0.0</td>\n",
              "      <td>0.0</td>\n",
              "      <td>0.0</td>\n",
              "      <td>0.0</td>\n",
              "      <td>0.0</td>\n",
              "      <td>1.0</td>\n",
              "      <td>0.0</td>\n",
              "      <td>0.0</td>\n",
              "      <td>0.0</td>\n",
              "      <td>0.0</td>\n",
              "      <td>0.0</td>\n",
              "      <td>0.0</td>\n",
              "      <td>0.0</td>\n",
              "      <td>1.0</td>\n",
              "      <td>0.0</td>\n",
              "      <td>0.0</td>\n",
              "      <td>1.0</td>\n",
              "      <td>0.0</td>\n",
              "      <td>0.0</td>\n",
              "      <td>1.0</td>\n",
              "      <td>0.0</td>\n",
              "      <td>0.0</td>\n",
              "      <td>1.0</td>\n",
              "      <td>0.0</td>\n",
              "      <td>0.0</td>\n",
              "      <td>0.0</td>\n",
              "      <td>1.0</td>\n",
              "      <td>0.0</td>\n",
              "      <td>0.0</td>\n",
              "      <td>0.0</td>\n",
              "      <td>0.0</td>\n",
              "      <td>0.0</td>\n",
              "      <td>0.0</td>\n",
              "      <td>1.0</td>\n",
              "      <td>0.0</td>\n",
              "      <td>0.0</td>\n",
              "      <td>0.0</td>\n",
              "      <td>0.0</td>\n",
              "      <td>1.0</td>\n",
              "      <td>0.0</td>\n",
              "      <td>0.0</td>\n",
              "      <td>0.0</td>\n",
              "      <td>0.0</td>\n",
              "      <td>1.0</td>\n",
              "      <td>0.0</td>\n",
              "    </tr>\n",
              "    <tr>\n",
              "      <th>7</th>\n",
              "      <td>no</td>\n",
              "      <td>0.0</td>\n",
              "      <td>1.0</td>\n",
              "      <td>0.0</td>\n",
              "      <td>0.0</td>\n",
              "      <td>0.0</td>\n",
              "      <td>0.0</td>\n",
              "      <td>0.0</td>\n",
              "      <td>0.0</td>\n",
              "      <td>0.0</td>\n",
              "      <td>0.0</td>\n",
              "      <td>0.0</td>\n",
              "      <td>0.0</td>\n",
              "      <td>0.0</td>\n",
              "      <td>1.0</td>\n",
              "      <td>0.0</td>\n",
              "      <td>0.0</td>\n",
              "      <td>0.0</td>\n",
              "      <td>0.0</td>\n",
              "      <td>0.0</td>\n",
              "      <td>0.0</td>\n",
              "      <td>0.0</td>\n",
              "      <td>0.0</td>\n",
              "      <td>0.0</td>\n",
              "      <td>1.0</td>\n",
              "      <td>0.0</td>\n",
              "      <td>1.0</td>\n",
              "      <td>0.0</td>\n",
              "      <td>1.0</td>\n",
              "      <td>0.0</td>\n",
              "      <td>0.0</td>\n",
              "      <td>1.0</td>\n",
              "      <td>0.0</td>\n",
              "      <td>0.0</td>\n",
              "      <td>0.0</td>\n",
              "      <td>1.0</td>\n",
              "      <td>0.0</td>\n",
              "      <td>0.0</td>\n",
              "      <td>0.0</td>\n",
              "      <td>0.0</td>\n",
              "      <td>0.0</td>\n",
              "      <td>0.0</td>\n",
              "      <td>1.0</td>\n",
              "      <td>0.0</td>\n",
              "      <td>0.0</td>\n",
              "      <td>0.0</td>\n",
              "      <td>0.0</td>\n",
              "      <td>1.0</td>\n",
              "      <td>0.0</td>\n",
              "      <td>0.0</td>\n",
              "      <td>0.0</td>\n",
              "      <td>0.0</td>\n",
              "      <td>1.0</td>\n",
              "      <td>0.0</td>\n",
              "    </tr>\n",
              "    <tr>\n",
              "      <th>8</th>\n",
              "      <td>no</td>\n",
              "      <td>0.0</td>\n",
              "      <td>0.0</td>\n",
              "      <td>0.0</td>\n",
              "      <td>0.0</td>\n",
              "      <td>0.0</td>\n",
              "      <td>0.0</td>\n",
              "      <td>0.0</td>\n",
              "      <td>0.0</td>\n",
              "      <td>0.0</td>\n",
              "      <td>1.0</td>\n",
              "      <td>0.0</td>\n",
              "      <td>0.0</td>\n",
              "      <td>0.0</td>\n",
              "      <td>0.0</td>\n",
              "      <td>1.0</td>\n",
              "      <td>0.0</td>\n",
              "      <td>0.0</td>\n",
              "      <td>0.0</td>\n",
              "      <td>0.0</td>\n",
              "      <td>0.0</td>\n",
              "      <td>0.0</td>\n",
              "      <td>1.0</td>\n",
              "      <td>0.0</td>\n",
              "      <td>0.0</td>\n",
              "      <td>1.0</td>\n",
              "      <td>0.0</td>\n",
              "      <td>0.0</td>\n",
              "      <td>0.0</td>\n",
              "      <td>0.0</td>\n",
              "      <td>1.0</td>\n",
              "      <td>1.0</td>\n",
              "      <td>0.0</td>\n",
              "      <td>0.0</td>\n",
              "      <td>0.0</td>\n",
              "      <td>1.0</td>\n",
              "      <td>0.0</td>\n",
              "      <td>0.0</td>\n",
              "      <td>0.0</td>\n",
              "      <td>0.0</td>\n",
              "      <td>0.0</td>\n",
              "      <td>0.0</td>\n",
              "      <td>1.0</td>\n",
              "      <td>0.0</td>\n",
              "      <td>0.0</td>\n",
              "      <td>0.0</td>\n",
              "      <td>0.0</td>\n",
              "      <td>1.0</td>\n",
              "      <td>0.0</td>\n",
              "      <td>0.0</td>\n",
              "      <td>0.0</td>\n",
              "      <td>0.0</td>\n",
              "      <td>1.0</td>\n",
              "      <td>0.0</td>\n",
              "    </tr>\n",
              "    <tr>\n",
              "      <th>9</th>\n",
              "      <td>no</td>\n",
              "      <td>0.0</td>\n",
              "      <td>0.0</td>\n",
              "      <td>0.0</td>\n",
              "      <td>0.0</td>\n",
              "      <td>0.0</td>\n",
              "      <td>0.0</td>\n",
              "      <td>0.0</td>\n",
              "      <td>1.0</td>\n",
              "      <td>0.0</td>\n",
              "      <td>0.0</td>\n",
              "      <td>0.0</td>\n",
              "      <td>0.0</td>\n",
              "      <td>0.0</td>\n",
              "      <td>0.0</td>\n",
              "      <td>1.0</td>\n",
              "      <td>0.0</td>\n",
              "      <td>0.0</td>\n",
              "      <td>0.0</td>\n",
              "      <td>0.0</td>\n",
              "      <td>1.0</td>\n",
              "      <td>0.0</td>\n",
              "      <td>0.0</td>\n",
              "      <td>0.0</td>\n",
              "      <td>0.0</td>\n",
              "      <td>1.0</td>\n",
              "      <td>0.0</td>\n",
              "      <td>0.0</td>\n",
              "      <td>0.0</td>\n",
              "      <td>0.0</td>\n",
              "      <td>1.0</td>\n",
              "      <td>1.0</td>\n",
              "      <td>0.0</td>\n",
              "      <td>0.0</td>\n",
              "      <td>0.0</td>\n",
              "      <td>1.0</td>\n",
              "      <td>0.0</td>\n",
              "      <td>0.0</td>\n",
              "      <td>0.0</td>\n",
              "      <td>0.0</td>\n",
              "      <td>0.0</td>\n",
              "      <td>0.0</td>\n",
              "      <td>1.0</td>\n",
              "      <td>0.0</td>\n",
              "      <td>0.0</td>\n",
              "      <td>0.0</td>\n",
              "      <td>0.0</td>\n",
              "      <td>1.0</td>\n",
              "      <td>0.0</td>\n",
              "      <td>0.0</td>\n",
              "      <td>0.0</td>\n",
              "      <td>0.0</td>\n",
              "      <td>1.0</td>\n",
              "      <td>0.0</td>\n",
              "    </tr>\n",
              "  </tbody>\n",
              "</table>\n",
              "</div>"
            ],
            "text/plain": [
              "    y  job_admin.  ...  poutcome_nonexistent  poutcome_success\n",
              "0  no         0.0  ...                   1.0               0.0\n",
              "1  no         0.0  ...                   1.0               0.0\n",
              "2  no         0.0  ...                   1.0               0.0\n",
              "3  no         1.0  ...                   1.0               0.0\n",
              "4  no         0.0  ...                   1.0               0.0\n",
              "5  no         0.0  ...                   1.0               0.0\n",
              "6  no         1.0  ...                   1.0               0.0\n",
              "7  no         0.0  ...                   1.0               0.0\n",
              "8  no         0.0  ...                   1.0               0.0\n",
              "9  no         0.0  ...                   1.0               0.0\n",
              "\n",
              "[10 rows x 54 columns]"
            ]
          },
          "metadata": {
            "tags": []
          },
          "execution_count": 219
        }
      ]
    },
    {
      "cell_type": "code",
      "metadata": {
        "colab": {
          "base_uri": "https://localhost:8080/"
        },
        "id": "KWry8Bwj_ibz",
        "outputId": "3184ceb0-8ba2-4c44-abeb-cd9276ad6b67"
      },
      "source": [
        "categorical_df.isnull().any()"
      ],
      "execution_count": 220,
      "outputs": [
        {
          "output_type": "execute_result",
          "data": {
            "text/plain": [
              "y                                False\n",
              "job_admin.                       False\n",
              "job_blue-collar                  False\n",
              "job_entrepreneur                 False\n",
              "job_housemaid                    False\n",
              "job_management                   False\n",
              "job_retired                      False\n",
              "job_self-employed                False\n",
              "job_services                     False\n",
              "job_student                      False\n",
              "job_technician                   False\n",
              "job_unemployed                   False\n",
              "job_unknown                      False\n",
              "marital_divorced                 False\n",
              "marital_married                  False\n",
              "marital_single                   False\n",
              "marital_unknown                  False\n",
              "education_basic.4y               False\n",
              "education_basic.6y               False\n",
              "education_basic.9y               False\n",
              "education_high.school            False\n",
              "education_illiterate             False\n",
              "education_professional.course    False\n",
              "education_university.degree      False\n",
              "education_unknown                False\n",
              "default_no                       False\n",
              "default_unknown                  False\n",
              "default_yes                      False\n",
              "housing_no                       False\n",
              "housing_unknown                  False\n",
              "housing_yes                      False\n",
              "loan_no                          False\n",
              "loan_unknown                     False\n",
              "loan_yes                         False\n",
              "contact_cellular                 False\n",
              "contact_telephone                False\n",
              "month_apr                        False\n",
              "month_aug                        False\n",
              "month_dec                        False\n",
              "month_jul                        False\n",
              "month_jun                        False\n",
              "month_mar                        False\n",
              "month_may                        False\n",
              "month_nov                        False\n",
              "month_oct                        False\n",
              "month_sep                        False\n",
              "day_of_week_fri                  False\n",
              "day_of_week_mon                  False\n",
              "day_of_week_thu                  False\n",
              "day_of_week_tue                  False\n",
              "day_of_week_wed                  False\n",
              "poutcome_failure                 False\n",
              "poutcome_nonexistent             False\n",
              "poutcome_success                 False\n",
              "dtype: bool"
            ]
          },
          "metadata": {
            "tags": []
          },
          "execution_count": 220
        }
      ]
    },
    {
      "cell_type": "code",
      "metadata": {
        "colab": {
          "base_uri": "https://localhost:8080/"
        },
        "id": "hQJcNB0fT8Ct",
        "outputId": "61160521-193e-47be-d1e4-aaf41f0e8a16"
      },
      "source": [
        "# final datadframe to join numerical data columns with categorical data columns\n",
        "final_df = categorical_df.join(num_df)\n",
        "final_df.info()"
      ],
      "execution_count": 221,
      "outputs": [
        {
          "output_type": "stream",
          "text": [
            "<class 'pandas.core.frame.DataFrame'>\n",
            "RangeIndex: 41188 entries, 0 to 41187\n",
            "Data columns (total 63 columns):\n",
            " #   Column                         Non-Null Count  Dtype  \n",
            "---  ------                         --------------  -----  \n",
            " 0   y                              41188 non-null  object \n",
            " 1   job_admin.                     41188 non-null  float64\n",
            " 2   job_blue-collar                41188 non-null  float64\n",
            " 3   job_entrepreneur               41188 non-null  float64\n",
            " 4   job_housemaid                  41188 non-null  float64\n",
            " 5   job_management                 41188 non-null  float64\n",
            " 6   job_retired                    41188 non-null  float64\n",
            " 7   job_self-employed              41188 non-null  float64\n",
            " 8   job_services                   41188 non-null  float64\n",
            " 9   job_student                    41188 non-null  float64\n",
            " 10  job_technician                 41188 non-null  float64\n",
            " 11  job_unemployed                 41188 non-null  float64\n",
            " 12  job_unknown                    41188 non-null  float64\n",
            " 13  marital_divorced               41188 non-null  float64\n",
            " 14  marital_married                41188 non-null  float64\n",
            " 15  marital_single                 41188 non-null  float64\n",
            " 16  marital_unknown                41188 non-null  float64\n",
            " 17  education_basic.4y             41188 non-null  float64\n",
            " 18  education_basic.6y             41188 non-null  float64\n",
            " 19  education_basic.9y             41188 non-null  float64\n",
            " 20  education_high.school          41188 non-null  float64\n",
            " 21  education_illiterate           41188 non-null  float64\n",
            " 22  education_professional.course  41188 non-null  float64\n",
            " 23  education_university.degree    41188 non-null  float64\n",
            " 24  education_unknown              41188 non-null  float64\n",
            " 25  default_no                     41188 non-null  float64\n",
            " 26  default_unknown                41188 non-null  float64\n",
            " 27  default_yes                    41188 non-null  float64\n",
            " 28  housing_no                     41188 non-null  float64\n",
            " 29  housing_unknown                41188 non-null  float64\n",
            " 30  housing_yes                    41188 non-null  float64\n",
            " 31  loan_no                        41188 non-null  float64\n",
            " 32  loan_unknown                   41188 non-null  float64\n",
            " 33  loan_yes                       41188 non-null  float64\n",
            " 34  contact_cellular               41188 non-null  float64\n",
            " 35  contact_telephone              41188 non-null  float64\n",
            " 36  month_apr                      41188 non-null  float64\n",
            " 37  month_aug                      41188 non-null  float64\n",
            " 38  month_dec                      41188 non-null  float64\n",
            " 39  month_jul                      41188 non-null  float64\n",
            " 40  month_jun                      41188 non-null  float64\n",
            " 41  month_mar                      41188 non-null  float64\n",
            " 42  month_may                      41188 non-null  float64\n",
            " 43  month_nov                      41188 non-null  float64\n",
            " 44  month_oct                      41188 non-null  float64\n",
            " 45  month_sep                      41188 non-null  float64\n",
            " 46  day_of_week_fri                41188 non-null  float64\n",
            " 47  day_of_week_mon                41188 non-null  float64\n",
            " 48  day_of_week_thu                41188 non-null  float64\n",
            " 49  day_of_week_tue                41188 non-null  float64\n",
            " 50  day_of_week_wed                41188 non-null  float64\n",
            " 51  poutcome_failure               41188 non-null  float64\n",
            " 52  poutcome_nonexistent           41188 non-null  float64\n",
            " 53  poutcome_success               41188 non-null  float64\n",
            " 54  age                            41188 non-null  float64\n",
            " 55  campaign                       41188 non-null  float64\n",
            " 56  pdays                          41188 non-null  int64  \n",
            " 57  previous                       41188 non-null  float64\n",
            " 58  emp.var.rate                   41188 non-null  float64\n",
            " 59  cons.price.idx                 41188 non-null  float64\n",
            " 60  cons.conf.idx                  41188 non-null  float64\n",
            " 61  euribor3m                      41188 non-null  float64\n",
            " 62  nr.employed                    41188 non-null  float64\n",
            "dtypes: float64(61), int64(1), object(1)\n",
            "memory usage: 19.8+ MB\n"
          ],
          "name": "stdout"
        }
      ]
    },
    {
      "cell_type": "code",
      "metadata": {
        "colab": {
          "base_uri": "https://localhost:8080/"
        },
        "id": "4wrJ-9K6DpkS",
        "outputId": "d2dfc154-362c-4d29-cf3d-f959748e41cf"
      },
      "source": [
        "final_df.isnull().any()"
      ],
      "execution_count": 222,
      "outputs": [
        {
          "output_type": "execute_result",
          "data": {
            "text/plain": [
              "y                   False\n",
              "job_admin.          False\n",
              "job_blue-collar     False\n",
              "job_entrepreneur    False\n",
              "job_housemaid       False\n",
              "                    ...  \n",
              "emp.var.rate        False\n",
              "cons.price.idx      False\n",
              "cons.conf.idx       False\n",
              "euribor3m           False\n",
              "nr.employed         False\n",
              "Length: 63, dtype: bool"
            ]
          },
          "metadata": {
            "tags": []
          },
          "execution_count": 222
        }
      ]
    },
    {
      "cell_type": "code",
      "metadata": {
        "id": "y2_nzDBXUbR-"
      },
      "source": [
        "# droped 'y' column before apply the coding for categorical features\n",
        "bank_df_features = final_df.drop('y',axis=1)\n",
        "target = pd.DataFrame(final_df['y'], columns=[\"y\"])\n",
        "# apply the coding\n",
        "target['y'] = target['y'].astype('category').cat.codes"
      ],
      "execution_count": 223,
      "outputs": []
    },
    {
      "cell_type": "code",
      "metadata": {
        "colab": {
          "base_uri": "https://localhost:8080/"
        },
        "id": "iC5HE0uYD0SQ",
        "outputId": "af70148d-7e7b-423a-ea2d-c1660c300a13"
      },
      "source": [
        "bank_df_features.isnull().any()"
      ],
      "execution_count": 224,
      "outputs": [
        {
          "output_type": "execute_result",
          "data": {
            "text/plain": [
              "job_admin.          False\n",
              "job_blue-collar     False\n",
              "job_entrepreneur    False\n",
              "job_housemaid       False\n",
              "job_management      False\n",
              "                    ...  \n",
              "emp.var.rate        False\n",
              "cons.price.idx      False\n",
              "cons.conf.idx       False\n",
              "euribor3m           False\n",
              "nr.employed         False\n",
              "Length: 62, dtype: bool"
            ]
          },
          "metadata": {
            "tags": []
          },
          "execution_count": 224
        }
      ]
    },
    {
      "cell_type": "code",
      "metadata": {
        "colab": {
          "base_uri": "https://localhost:8080/"
        },
        "id": "M7EGrIfAF5lR",
        "outputId": "8af0b5d6-61bf-47db-9125-bc0b347b8593"
      },
      "source": [
        "target.value_counts()"
      ],
      "execution_count": 225,
      "outputs": [
        {
          "output_type": "execute_result",
          "data": {
            "text/plain": [
              "y\n",
              "0    36548\n",
              "1     4640\n",
              "dtype: int64"
            ]
          },
          "metadata": {
            "tags": []
          },
          "execution_count": 225
        }
      ]
    },
    {
      "cell_type": "code",
      "metadata": {
        "id": "UGWsGme2Uri3"
      },
      "source": [
        "# split into train and test datasets\n",
        "X_train, X_test, Y_train, Y_test = train_test_split(bank_df_features, target, test_size = 0.2, random_state = 100)\n",
        "X_train=X_train.reset_index(drop=True)\n",
        "X_test=X_test.reset_index(drop=True)\n",
        "Y_train=Y_train.reset_index(drop=True)\n",
        "Y_test=Y_test.reset_index(drop=True)"
      ],
      "execution_count": 235,
      "outputs": []
    },
    {
      "cell_type": "code",
      "metadata": {
        "colab": {
          "base_uri": "https://localhost:8080/"
        },
        "id": "p2H2Iy-oGJrM",
        "outputId": "3de9fd29-54a7-4d0a-d599-d7c4c6c1c503"
      },
      "source": [
        "Y_train.value_counts()"
      ],
      "execution_count": 236,
      "outputs": [
        {
          "output_type": "execute_result",
          "data": {
            "text/plain": [
              "y\n",
              "0    29213\n",
              "1     3737\n",
              "dtype: int64"
            ]
          },
          "metadata": {
            "tags": []
          },
          "execution_count": 236
        }
      ]
    },
    {
      "cell_type": "code",
      "metadata": {
        "id": "Yh-UMHytUxgo"
      },
      "source": [
        "#standardizing\n",
        "scaler = StandardScaler()\n",
        "scaler.fit(X_train)\n",
        "X_train_scaled = scaler.transform(X_train)\n",
        "X_test_scaled = scaler.transform(X_test)"
      ],
      "execution_count": 238,
      "outputs": []
    },
    {
      "cell_type": "code",
      "metadata": {
        "colab": {
          "base_uri": "https://localhost:8080/",
          "height": 464
        },
        "id": "LJpAptjp12mo",
        "outputId": "9dcb623a-3914-4810-becb-a2359251c0de"
      },
      "source": [
        "columnsto_scaled = ['age', 'campaign', 'pdays', 'previous', 'emp.var.rate','cons.price.idx', 'cons.conf.idx', 'euribor3m', 'nr.employed']\n",
        "X_train[columnsto_scaled].hist()\n"
      ],
      "execution_count": 240,
      "outputs": [
        {
          "output_type": "execute_result",
          "data": {
            "text/plain": [
              "array([[<matplotlib.axes._subplots.AxesSubplot object at 0x7f659d6a4350>,\n",
              "        <matplotlib.axes._subplots.AxesSubplot object at 0x7f65a7b47c90>,\n",
              "        <matplotlib.axes._subplots.AxesSubplot object at 0x7f65a7b533d0>],\n",
              "       [<matplotlib.axes._subplots.AxesSubplot object at 0x7f658eea09d0>,\n",
              "        <matplotlib.axes._subplots.AxesSubplot object at 0x7f658eebac50>,\n",
              "        <matplotlib.axes._subplots.AxesSubplot object at 0x7f658ee65310>],\n",
              "       [<matplotlib.axes._subplots.AxesSubplot object at 0x7f658ee19a10>,\n",
              "        <matplotlib.axes._subplots.AxesSubplot object at 0x7f658edc9fd0>,\n",
              "        <matplotlib.axes._subplots.AxesSubplot object at 0x7f658edd3050>]],\n",
              "      dtype=object)"
            ]
          },
          "metadata": {
            "tags": []
          },
          "execution_count": 240
        },
        {
          "output_type": "display_data",
          "data": {
            "image/png": "[encoded data removed]",
            "text/plain": [
              "<Figure size 432x288 with 9 Axes>"
            ]
          },
          "metadata": {
            "tags": [],
            "needs_background": "light"
          }
        }
      ]
    },
    {
      "cell_type": "code",
      "metadata": {
        "colab": {
          "base_uri": "https://localhost:8080/",
          "height": 609
        },
        "id": "Q6E8OTvWU1Jy",
        "outputId": "5de028ba-9a2a-4e5f-bda2-9ecba1b52b69"
      },
      "source": [
        "# correlation matrix\n",
        "correlation_matrix = pd.concat([X_train.iloc[:,55:], Y_train], axis=1).corr()\n",
        "sns.heatmap(correlation_matrix,annot=True)\n",
        "correlation_matrix"
      ],
      "execution_count": 176,
      "outputs": [
        {
          "output_type": "execute_result",
          "data": {
            "text/html": [
              "<div>\n",
              "<style scoped>\n",
              "    .dataframe tbody tr th:only-of-type {\n",
              "        vertical-align: middle;\n",
              "    }\n",
              "\n",
              "    .dataframe tbody tr th {\n",
              "        vertical-align: top;\n",
              "    }\n",
              "\n",
              "    .dataframe thead th {\n",
              "        text-align: right;\n",
              "    }\n",
              "</style>\n",
              "<table border=\"1\" class=\"dataframe\">\n",
              "  <thead>\n",
              "    <tr style=\"text-align: right;\">\n",
              "      <th></th>\n",
              "      <th>pdays</th>\n",
              "      <th>previous</th>\n",
              "      <th>emp.var.rate</th>\n",
              "      <th>cons.price.idx</th>\n",
              "      <th>cons.conf.idx</th>\n",
              "      <th>euribor3m</th>\n",
              "      <th>nr.employed</th>\n",
              "      <th>y</th>\n",
              "    </tr>\n",
              "  </thead>\n",
              "  <tbody>\n",
              "    <tr>\n",
              "      <th>pdays</th>\n",
              "      <td>1.000000</td>\n",
              "      <td>-0.553141</td>\n",
              "      <td>0.273411</td>\n",
              "      <td>0.082837</td>\n",
              "      <td>-0.090080</td>\n",
              "      <td>0.298664</td>\n",
              "      <td>0.370790</td>\n",
              "      <td>-0.325500</td>\n",
              "    </tr>\n",
              "    <tr>\n",
              "      <th>previous</th>\n",
              "      <td>-0.553141</td>\n",
              "      <td>1.000000</td>\n",
              "      <td>-0.465287</td>\n",
              "      <td>-0.265987</td>\n",
              "      <td>-0.081412</td>\n",
              "      <td>-0.490698</td>\n",
              "      <td>-0.514798</td>\n",
              "      <td>0.221552</td>\n",
              "    </tr>\n",
              "    <tr>\n",
              "      <th>emp.var.rate</th>\n",
              "      <td>0.273411</td>\n",
              "      <td>-0.465287</td>\n",
              "      <td>1.000000</td>\n",
              "      <td>0.774387</td>\n",
              "      <td>0.200666</td>\n",
              "      <td>0.972175</td>\n",
              "      <td>0.908405</td>\n",
              "      <td>-0.304397</td>\n",
              "    </tr>\n",
              "    <tr>\n",
              "      <th>cons.price.idx</th>\n",
              "      <td>0.082837</td>\n",
              "      <td>-0.265987</td>\n",
              "      <td>0.774387</td>\n",
              "      <td>1.000000</td>\n",
              "      <td>0.064422</td>\n",
              "      <td>0.686706</td>\n",
              "      <td>0.522672</td>\n",
              "      <td>-0.140847</td>\n",
              "    </tr>\n",
              "    <tr>\n",
              "      <th>cons.conf.idx</th>\n",
              "      <td>-0.090080</td>\n",
              "      <td>-0.081412</td>\n",
              "      <td>0.200666</td>\n",
              "      <td>0.064422</td>\n",
              "      <td>1.000000</td>\n",
              "      <td>0.281674</td>\n",
              "      <td>0.106235</td>\n",
              "      <td>0.054015</td>\n",
              "    </tr>\n",
              "    <tr>\n",
              "      <th>euribor3m</th>\n",
              "      <td>0.298664</td>\n",
              "      <td>-0.490698</td>\n",
              "      <td>0.972175</td>\n",
              "      <td>0.686706</td>\n",
              "      <td>0.281674</td>\n",
              "      <td>1.000000</td>\n",
              "      <td>0.946288</td>\n",
              "      <td>-0.312671</td>\n",
              "    </tr>\n",
              "    <tr>\n",
              "      <th>nr.employed</th>\n",
              "      <td>0.370790</td>\n",
              "      <td>-0.514798</td>\n",
              "      <td>0.908405</td>\n",
              "      <td>0.522672</td>\n",
              "      <td>0.106235</td>\n",
              "      <td>0.946288</td>\n",
              "      <td>1.000000</td>\n",
              "      <td>-0.357620</td>\n",
              "    </tr>\n",
              "    <tr>\n",
              "      <th>y</th>\n",
              "      <td>-0.325500</td>\n",
              "      <td>0.221552</td>\n",
              "      <td>-0.304397</td>\n",
              "      <td>-0.140847</td>\n",
              "      <td>0.054015</td>\n",
              "      <td>-0.312671</td>\n",
              "      <td>-0.357620</td>\n",
              "      <td>1.000000</td>\n",
              "    </tr>\n",
              "  </tbody>\n",
              "</table>\n",
              "</div>"
            ],
            "text/plain": [
              "                   pdays  previous  ...  nr.employed         y\n",
              "pdays           1.000000 -0.553141  ...     0.370790 -0.325500\n",
              "previous       -0.553141  1.000000  ...    -0.514798  0.221552\n",
              "emp.var.rate    0.273411 -0.465287  ...     0.908405 -0.304397\n",
              "cons.price.idx  0.082837 -0.265987  ...     0.522672 -0.140847\n",
              "cons.conf.idx  -0.090080 -0.081412  ...     0.106235  0.054015\n",
              "euribor3m       0.298664 -0.490698  ...     0.946288 -0.312671\n",
              "nr.employed     0.370790 -0.514798  ...     1.000000 -0.357620\n",
              "y              -0.325500  0.221552  ...    -0.357620  1.000000\n",
              "\n",
              "[8 rows x 8 columns]"
            ]
          },
          "metadata": {
            "tags": []
          },
          "execution_count": 176
        },
        {
          "output_type": "display_data",
          "data": {
            "image/png": "[encoded data removed]",
            "text/plain": [
              "<Figure size 432x288 with 2 Axes>"
            ]
          },
          "metadata": {
            "tags": [],
            "needs_background": "light"
          }
        }
      ]
    },
    {
      "cell_type": "code",
      "metadata": {
        "id": "tqqjybgIE8lX"
      },
      "source": [
        "#Performing PCA\n",
        "from sklearn.decomposition import PCA\n",
        "from sklearn.preprocessing import StandardScaler\n",
        "\n",
        "pca = PCA()\n",
        "\n",
        "X_Scaled_pca = pca.fit_transform(X_train) "
      ],
      "execution_count": 229,
      "outputs": []
    },
    {
      "cell_type": "code",
      "metadata": {
        "colab": {
          "base_uri": "https://localhost:8080/"
        },
        "id": "GoTIMvw6FBuh",
        "outputId": "b4d544e1-de57-4f8c-8494-db00afdb04f6"
      },
      "source": [
        "pca.explained_variance_ratio_"
      ],
      "execution_count": 230,
      "outputs": [
        {
          "output_type": "execute_result",
          "data": {
            "text/plain": [
              "array([9.99999945e-01, 5.49837549e-08, 3.80472351e-11, 1.76311161e-12,\n",
              "       1.43322625e-12, 8.82556915e-13, 7.85888772e-13, 6.77344232e-13,\n",
              "       6.12435529e-13, 5.48570874e-13, 5.02375385e-13, 4.78567719e-13,\n",
              "       4.62729631e-13, 4.24098040e-13, 4.06095581e-13, 3.88849200e-13,\n",
              "       3.76684572e-13, 3.58307171e-13, 3.57038553e-13, 3.43449554e-13,\n",
              "       2.63925387e-13, 2.40612722e-13, 2.29527636e-13, 2.08589856e-13,\n",
              "       1.99394373e-13, 1.47593959e-13, 1.34065802e-13, 1.25001663e-13,\n",
              "       1.20078441e-13, 1.19021395e-13, 9.82127372e-14, 8.55941814e-14,\n",
              "       8.14845362e-14, 7.73244977e-14, 6.30557816e-14, 5.97112658e-14,\n",
              "       4.79304827e-14, 4.36192051e-14, 3.45437252e-14, 3.38930734e-14,\n",
              "       2.82721348e-14, 2.28175153e-14, 1.62925781e-14, 1.47011996e-14,\n",
              "       8.93874715e-15, 8.36784902e-15, 5.88269460e-15, 4.88320717e-15,\n",
              "       3.49468489e-15, 9.43790572e-16, 1.65355334e-16, 9.97823736e-33,\n",
              "       9.97823736e-33, 9.97823736e-33, 9.97823736e-33, 9.97823736e-33,\n",
              "       9.97823736e-33, 9.97823736e-33, 9.97823736e-33, 9.97823736e-33,\n",
              "       9.97823736e-33, 4.47001087e-36])"
            ]
          },
          "metadata": {
            "tags": []
          },
          "execution_count": 230
        }
      ]
    },
    {
      "cell_type": "code",
      "metadata": {
        "id": "xiNBMpP3YaRU"
      },
      "source": [
        "pca = PCA(n_components=4)\n",
        "pca.fit(X_train)\n",
        "X_train_pca = pca.transform(X_train)\n",
        "X_test_pca = pca.transform(X_test)"
      ],
      "execution_count": 177,
      "outputs": []
    },
    {
      "cell_type": "code",
      "metadata": {
        "colab": {
          "base_uri": "https://localhost:8080/"
        },
        "id": "ZqrYeDWbFuvH",
        "outputId": "b41a79a1-1a2c-494b-c84f-18d91f0cf9fd"
      },
      "source": [
        "Y_train.value_counts()"
      ],
      "execution_count": 178,
      "outputs": [
        {
          "output_type": "execute_result",
          "data": {
            "text/plain": [
              "y\n",
              "0    29213\n",
              "1     3737\n",
              "dtype: int64"
            ]
          },
          "metadata": {
            "tags": []
          },
          "execution_count": 178
        }
      ]
    },
    {
      "cell_type": "code",
      "metadata": {
        "colab": {
          "base_uri": "https://localhost:8080/"
        },
        "id": "3y_s5xHnYeLa",
        "outputId": "d1ef7f7a-04e0-47b9-a227-0f62519997fa"
      },
      "source": [
        "#Define and train an MLPClassifier named mlpcl on the given data\n",
        "mlpcl = MLPClassifier(hidden_layer_sizes=(3,),\n",
        "                      max_iter=500,\n",
        "                      activation = 'relu', \n",
        "                      solver='adam', \n",
        "                      verbose=True,\n",
        "                      early_stopping=True, \n",
        "                      validation_fraction=0.2, \n",
        "                      tol=0.01,\n",
        "                      learning_rate_init=0.00001, random_state=466)\n",
        "mlpcl.fit(X_train_pca, Y_train)"
      ],
      "execution_count": 241,
      "outputs": [
        {
          "output_type": "stream",
          "text": [
            "Iteration 1, loss = inf\n",
            "Validation score: 0.714112\n",
            "Iteration 2, loss = inf\n",
            "Validation score: 0.714112\n",
            "Iteration 3, loss = inf\n",
            "Validation score: 0.714112\n",
            "Iteration 4, loss = inf\n",
            "Validation score: 0.714112\n",
            "Iteration 5, loss = inf\n",
            "Validation score: 0.714112\n",
            "Iteration 6, loss = inf\n",
            "Validation score: 0.714112\n",
            "Iteration 7, loss = inf\n",
            "Validation score: 0.714112\n",
            "Iteration 8, loss = inf\n",
            "Validation score: 0.714112\n",
            "Iteration 9, loss = inf\n",
            "Validation score: 0.714112\n",
            "Iteration 10, loss = inf\n",
            "Validation score: 0.714112\n",
            "Iteration 11, loss = inf\n",
            "Validation score: 0.714112\n",
            "Iteration 12, loss = inf\n",
            "Validation score: 0.714112\n",
            "Validation score did not improve more than tol=0.010000 for 10 consecutive epochs. Stopping.\n"
          ],
          "name": "stdout"
        },
        {
          "output_type": "execute_result",
          "data": {
            "text/plain": [
              "MLPClassifier(activation='relu', alpha=0.0001, batch_size='auto', beta_1=0.9,\n",
              "              beta_2=0.999, early_stopping=True, epsilon=1e-08,\n",
              "              hidden_layer_sizes=(3,), learning_rate='constant',\n",
              "              learning_rate_init=1e-05, max_fun=15000, max_iter=500,\n",
              "              momentum=0.9, n_iter_no_change=10, nesterovs_momentum=True,\n",
              "              power_t=0.5, random_state=466, shuffle=True, solver='adam',\n",
              "              tol=0.01, validation_fraction=0.2, verbose=True,\n",
              "              warm_start=False)"
            ]
          },
          "metadata": {
            "tags": []
          },
          "execution_count": 241
        }
      ]
    },
    {
      "cell_type": "code",
      "metadata": {
        "colab": {
          "base_uri": "https://localhost:8080/",
          "height": 265
        },
        "id": "XFuCIEJdYjUJ",
        "outputId": "41687a8d-30b5-4486-bff6-5accf87b8a8d"
      },
      "source": [
        "#confusion matrix\n",
        "predictions = mlpcl.predict(X_test_pca)\n",
        "cnf_matrix = confusion_matrix(Y_test, predictions)\n",
        "fig, ax = plt.subplots(1)\n",
        "ax = sns.heatmap(cnf_matrix, ax=ax, cmap=plt.cm.Purples, annot=True)\n",
        "plt.show()"
      ],
      "execution_count": 245,
      "outputs": [
        {
          "output_type": "display_data",
          "data": {
            "image/png": "[encoded data removed]",
            "text/plain": [
              "<Figure size 432x288 with 2 Axes>"
            ]
          },
          "metadata": {
            "tags": [],
            "needs_background": "light"
          }
        }
      ]
    },
    {
      "cell_type": "code",
      "metadata": {
        "colab": {
          "base_uri": "https://localhost:8080/"
        },
        "id": "pBvskRGbZsuW",
        "outputId": "d151871e-98a8-45f5-97b1-a9426bb37e52"
      },
      "source": [
        "# print the training error and MSE\n",
        "print(\"Training error: %f\" % mlpcl.loss_curve_[-1])\n",
        "print(\"Training set score: %f\" % mlpcl.score(X_train_pca, Y_train))\n",
        "print(\"Test set score: %f\" % mlpcl.score(X_test_pca, Y_test))\n",
        "print(accuracy_score(Y_test, predictions))\n",
        "\n",
        "print(\"MSE: %f\" % mean_squared_error(Y_test, predictions))"
      ],
      "execution_count": 246,
      "outputs": [
        {
          "output_type": "stream",
          "text": [
            "Training error: inf\n",
            "Training set score: 0.720941\n",
            "Test set score: 0.715829\n",
            "0.7158290847293032\n",
            "MSE: 0.284171\n"
          ],
          "name": "stdout"
        }
      ]
    },
    {
      "cell_type": "code",
      "metadata": {
        "id": "P_spHofidVeJ"
      },
      "source": [
        "# determine the number of input features\n",
        "n_features = X_train_pca.shape[1]"
      ],
      "execution_count": 247,
      "outputs": []
    },
    {
      "cell_type": "code",
      "metadata": {
        "id": "MqzZyM6rHIlA"
      },
      "source": [
        "# define model\n",
        "model = Sequential()\n",
        "model.add(Dense(10, activation='relu', kernel_initializer='he_normal', input_shape=(n_features,)))\n",
        "model.add(Dense(8, activation='relu', kernel_initializer='he_normal'))\n",
        "model.add(Dense(1, activation='sigmoid'))"
      ],
      "execution_count": 248,
      "outputs": []
    },
    {
      "cell_type": "code",
      "metadata": {
        "id": "HRcsljCjHMpO"
      },
      "source": [
        "n_epochs = 50\n",
        "learning_rate = 0.1\n",
        "decay_rate = learning_rate / n_epochs\n",
        "momentum = 0.8\n",
        "sgd = SGD(learning_rate, momentum=momentum, decay=decay_rate, nesterov=False)"
      ],
      "execution_count": 249,
      "outputs": []
    },
    {
      "cell_type": "code",
      "metadata": {
        "colab": {
          "base_uri": "https://localhost:8080/"
        },
        "id": "fjevaGYYHJh7",
        "outputId": "c66e4a0c-71e5-464d-e13c-5dc4facd1a8d"
      },
      "source": [
        "# compile the model\n",
        "model.compile(optimizer=sgd, loss='binary_crossentropy', metrics=['accuracy'])\n",
        "# fit the model\n",
        "model.fit(X_train_pca, Y_train, epochs=n_epochs, batch_size=32, verbose=0)"
      ],
      "execution_count": 250,
      "outputs": [
        {
          "output_type": "execute_result",
          "data": {
            "text/plain": [
              "<tensorflow.python.keras.callbacks.History at 0x7f658e96c850>"
            ]
          },
          "metadata": {
            "tags": []
          },
          "execution_count": 250
        }
      ]
    },
    {
      "cell_type": "code",
      "metadata": {
        "colab": {
          "base_uri": "https://localhost:8080/"
        },
        "id": "ze7TaQK2HQD_",
        "outputId": "7ceb61e8-20ed-4d9f-d3f4-a2a8987d0924"
      },
      "source": [
        "# evaluate the model\n",
        "loss, acc = model.evaluate(X_test_pca, Y_test, verbose=0)\n",
        "print('Test Accuracy: %.3f' % acc)"
      ],
      "execution_count": 251,
      "outputs": [
        {
          "output_type": "stream",
          "text": [
            "Test Accuracy: 0.890\n"
          ],
          "name": "stdout"
        }
      ]
    }
  ]
}